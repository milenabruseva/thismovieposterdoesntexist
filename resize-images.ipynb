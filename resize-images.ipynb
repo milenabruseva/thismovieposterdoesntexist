{
 "cells": [
  {
   "cell_type": "code",
   "execution_count": 1,
   "metadata": {
    "collapsed": true,
    "pycharm": {
     "name": "#%%\n"
    }
   },
   "outputs": [],
   "source": [
    "import os\n",
    "from pathlib import Path\n",
    "import glob\n",
    "import torchvision as tv\n",
    "\n",
    "import multiprocessing\n",
    "from functools import partial\n",
    "from tqdm.auto import tqdm\n",
    "\n",
    "from functions_for_multi import transform_and_save_image"
   ]
  },
  {
   "cell_type": "code",
   "execution_count": 2,
   "outputs": [],
   "source": [
    "num_cpu = multiprocessing.cpu_count()\n",
    "image_folder_path = os.path.join('data','tmdb')"
   ],
   "metadata": {
    "collapsed": false,
    "pycharm": {
     "name": "#%%\n"
    }
   }
  },
  {
   "cell_type": "code",
   "execution_count": 3,
   "outputs": [],
   "source": [
    "def resizeImage(image_folder_path:str, size: int, crop=False):\n",
    "    output_folder_path = image_folder_path.removesuffix(os.sep) + '-' + str(size)\n",
    "    if crop:\n",
    "        output_folder_path += '-cropped'\n",
    "    Path(output_folder_path).mkdir(parents=True, exist_ok=True)\n",
    "\n",
    "    if crop:\n",
    "        transform = tv.transforms.Compose([tv.transforms.Resize(size), tv.transforms.CenterCrop(size)])\n",
    "    else:\n",
    "        transform = tv.transforms.Compose([tv.transforms.Resize(size)])\n",
    "\n",
    "    pool = multiprocessing.Pool(processes=num_cpu)\n",
    "    trafosave_image = partial(transform_and_save_image, transform=transform, output_folder_path=output_folder_path)\n",
    "    images = glob.glob(os.path.join(image_folder_path,'*'))\n",
    "    for _ in tqdm(pool.imap_unordered(trafosave_image, images), total=len(images)):\n",
    "        pass"
   ],
   "metadata": {
    "collapsed": false,
    "pycharm": {
     "name": "#%%\n"
    }
   }
  },
  {
   "cell_type": "code",
   "execution_count": 4,
   "outputs": [
    {
     "data": {
      "text/plain": "  0%|          | 0/348035 [00:00<?, ?it/s]",
      "application/vnd.jupyter.widget-view+json": {
       "version_major": 2,
       "version_minor": 0,
       "model_id": "96ee407b545e49f1a724fa52e39f3d2a"
      }
     },
     "metadata": {},
     "output_type": "display_data"
    }
   ],
   "source": [
    "resizeImage(image_folder_path, size=64, crop=True)"
   ],
   "metadata": {
    "collapsed": false,
    "pycharm": {
     "name": "#%%\n"
    }
   }
  }
 ],
 "metadata": {
  "kernelspec": {
   "display_name": "Python 3",
   "language": "python",
   "name": "python3"
  },
  "language_info": {
   "codemirror_mode": {
    "name": "ipython",
    "version": 2
   },
   "file_extension": ".py",
   "mimetype": "text/x-python",
   "name": "python",
   "nbconvert_exporter": "python",
   "pygments_lexer": "ipython2",
   "version": "2.7.6"
  }
 },
 "nbformat": 4,
 "nbformat_minor": 0
}