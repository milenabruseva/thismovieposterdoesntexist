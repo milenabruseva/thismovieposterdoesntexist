{
 "cells": [
  {
   "cell_type": "code",
   "execution_count": 49,
   "metadata": {
    "collapsed": true,
    "pycharm": {
     "name": "#%%\n"
    }
   },
   "outputs": [],
   "source": [
    "import os\n",
    "from pathlib import Path\n",
    "import glob\n",
    "from PIL import Image\n",
    "import torchvision as tv"
   ]
  },
  {
   "cell_type": "code",
   "execution_count": 50,
   "outputs": [],
   "source": [
    "image_folder_path = os.path.join('data','tmdb')"
   ],
   "metadata": {
    "collapsed": false,
    "pycharm": {
     "name": "#%%\n"
    }
   }
  },
  {
   "cell_type": "code",
   "execution_count": 51,
   "outputs": [],
   "source": [
    "def resizeImage(image_folder_path:str, size: int, crop=False):\n",
    "    output_folder_path = image_folder_path.removesuffix(os.sep) + '-' + str(size)\n",
    "    if crop:\n",
    "        output_folder_path += '-cropped'\n",
    "    Path(output_folder_path).mkdir(parents=True, exist_ok=True)\n",
    "\n",
    "    if crop:\n",
    "        transform = tv.transforms.Compose([tv.transforms.Resize(size), tv.transforms.CenterCrop(size)])\n",
    "    else:\n",
    "        transform = tv.transforms.Compose([tv.transforms.Resize(size)])\n",
    "\n",
    "    for file in glob.iglob(os.path.join(image_folder_path,'*')):\n",
    "        image = Image.open(file)\n",
    "        image = transform(image)\n",
    "        image.save(os.path.join(output_folder_path, os.path.basename(file)))\n"
   ],
   "metadata": {
    "collapsed": false,
    "pycharm": {
     "name": "#%%\n"
    }
   }
  },
  {
   "cell_type": "code",
   "execution_count": 54,
   "outputs": [],
   "source": [
    "resizeImage(image_folder_path, size=64, crop=True)"
   ],
   "metadata": {
    "collapsed": false,
    "pycharm": {
     "name": "#%%\n"
    }
   }
  }
 ],
 "metadata": {
  "kernelspec": {
   "display_name": "Python 3",
   "language": "python",
   "name": "python3"
  },
  "language_info": {
   "codemirror_mode": {
    "name": "ipython",
    "version": 2
   },
   "file_extension": ".py",
   "mimetype": "text/x-python",
   "name": "python",
   "nbconvert_exporter": "python",
   "pygments_lexer": "ipython2",
   "version": "2.7.6"
  }
 },
 "nbformat": 4,
 "nbformat_minor": 0
}