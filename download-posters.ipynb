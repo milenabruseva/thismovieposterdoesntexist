{
 "cells": [
  {
   "cell_type": "code",
   "execution_count": 1,
   "metadata": {
    "collapsed": true,
    "pycharm": {
     "name": "#%%\n"
    }
   },
   "outputs": [
    {
     "data": {
      "text/plain": "                                title                                genres  \\\nid                                                                            \n760741                          Beast                    [Thriller, Horror]   \n610150  Dragon Ball Super: Super Hero  [Animation, Science Fiction, Action]   \n579974                            RRR                       [Action, Drama]   \n532639                      Pinocchio          [Fantasy, Adventure, Family]   \n616037         Thor: Love and Thunder             [Fantasy, Action, Comedy]   \n\n       original_language  popularity release_date  vote_count  \\\nid                                                              \n760741                en    5056.663   2022-08-11         284   \n610150                ja    3762.862   2022-06-11        1563   \n579974                te    3684.786   2022-03-24         331   \n532639                en    3680.307   2022-09-07         411   \n616037                en    3643.289   2022-07-06        3233   \n\n                                                 keywords  \\\nid                                                          \n760741                                    ['wild animal']   \n610150  ['android', 'sequel', 'attack', 'based on mang...   \n579974  ['revolution', 'liberation', 'freedom fighter'...   \n532639  ['fairy', 'musical', 'puppet', 'live action an...   \n616037  ['ex', 'girlfriend', 'hero', 'greek mythology'...   \n\n                             poster_path  Thriller  Horror  ...  Comedy  \\\nid                                                          ...           \n760741  /iRV0IB5xQeOymuGGUBarTecQVAl.jpg      True    True  ...   False   \n610150  /rugyJdeoJm7cSJL1q4jBpTNbxyU.jpg     False   False  ...   False   \n579974  /wE0I6efAW4cDDmZQWtwZMOW44EJ.jpg     False   False  ...   False   \n532639  /g8sclIV4gj1TZqUpnL82hKOTK3B.jpg     False   False  ...   False   \n616037  /pIkRyD18kl4FhoCNQuWxWu5cBLM.jpg     False   False  ...    True   \n\n        TV Movie  Crime  Mystery    War  Romance  Music  History  Documentary  \\\nid                                                                              \n760741     False  False    False  False    False  False    False        False   \n610150     False  False    False  False    False  False    False        False   \n579974     False  False    False  False    False  False    False        False   \n532639     False  False    False  False    False  False    False        False   \n616037     False  False    False  False    False  False    False        False   \n\n        Western  \nid               \n760741    False  \n610150    False  \n579974    False  \n532639    False  \n616037    False  \n\n[5 rows x 27 columns]",
      "text/html": "<div>\n<style scoped>\n    .dataframe tbody tr th:only-of-type {\n        vertical-align: middle;\n    }\n\n    .dataframe tbody tr th {\n        vertical-align: top;\n    }\n\n    .dataframe thead th {\n        text-align: right;\n    }\n</style>\n<table border=\"1\" class=\"dataframe\">\n  <thead>\n    <tr style=\"text-align: right;\">\n      <th></th>\n      <th>title</th>\n      <th>genres</th>\n      <th>original_language</th>\n      <th>popularity</th>\n      <th>release_date</th>\n      <th>vote_count</th>\n      <th>keywords</th>\n      <th>poster_path</th>\n      <th>Thriller</th>\n      <th>Horror</th>\n      <th>...</th>\n      <th>Comedy</th>\n      <th>TV Movie</th>\n      <th>Crime</th>\n      <th>Mystery</th>\n      <th>War</th>\n      <th>Romance</th>\n      <th>Music</th>\n      <th>History</th>\n      <th>Documentary</th>\n      <th>Western</th>\n    </tr>\n    <tr>\n      <th>id</th>\n      <th></th>\n      <th></th>\n      <th></th>\n      <th></th>\n      <th></th>\n      <th></th>\n      <th></th>\n      <th></th>\n      <th></th>\n      <th></th>\n      <th></th>\n      <th></th>\n      <th></th>\n      <th></th>\n      <th></th>\n      <th></th>\n      <th></th>\n      <th></th>\n      <th></th>\n      <th></th>\n      <th></th>\n    </tr>\n  </thead>\n  <tbody>\n    <tr>\n      <th>760741</th>\n      <td>Beast</td>\n      <td>[Thriller, Horror]</td>\n      <td>en</td>\n      <td>5056.663</td>\n      <td>2022-08-11</td>\n      <td>284</td>\n      <td>['wild animal']</td>\n      <td>/iRV0IB5xQeOymuGGUBarTecQVAl.jpg</td>\n      <td>True</td>\n      <td>True</td>\n      <td>...</td>\n      <td>False</td>\n      <td>False</td>\n      <td>False</td>\n      <td>False</td>\n      <td>False</td>\n      <td>False</td>\n      <td>False</td>\n      <td>False</td>\n      <td>False</td>\n      <td>False</td>\n    </tr>\n    <tr>\n      <th>610150</th>\n      <td>Dragon Ball Super: Super Hero</td>\n      <td>[Animation, Science Fiction, Action]</td>\n      <td>ja</td>\n      <td>3762.862</td>\n      <td>2022-06-11</td>\n      <td>1563</td>\n      <td>['android', 'sequel', 'attack', 'based on mang...</td>\n      <td>/rugyJdeoJm7cSJL1q4jBpTNbxyU.jpg</td>\n      <td>False</td>\n      <td>False</td>\n      <td>...</td>\n      <td>False</td>\n      <td>False</td>\n      <td>False</td>\n      <td>False</td>\n      <td>False</td>\n      <td>False</td>\n      <td>False</td>\n      <td>False</td>\n      <td>False</td>\n      <td>False</td>\n    </tr>\n    <tr>\n      <th>579974</th>\n      <td>RRR</td>\n      <td>[Action, Drama]</td>\n      <td>te</td>\n      <td>3684.786</td>\n      <td>2022-03-24</td>\n      <td>331</td>\n      <td>['revolution', 'liberation', 'freedom fighter'...</td>\n      <td>/wE0I6efAW4cDDmZQWtwZMOW44EJ.jpg</td>\n      <td>False</td>\n      <td>False</td>\n      <td>...</td>\n      <td>False</td>\n      <td>False</td>\n      <td>False</td>\n      <td>False</td>\n      <td>False</td>\n      <td>False</td>\n      <td>False</td>\n      <td>False</td>\n      <td>False</td>\n      <td>False</td>\n    </tr>\n    <tr>\n      <th>532639</th>\n      <td>Pinocchio</td>\n      <td>[Fantasy, Adventure, Family]</td>\n      <td>en</td>\n      <td>3680.307</td>\n      <td>2022-09-07</td>\n      <td>411</td>\n      <td>['fairy', 'musical', 'puppet', 'live action an...</td>\n      <td>/g8sclIV4gj1TZqUpnL82hKOTK3B.jpg</td>\n      <td>False</td>\n      <td>False</td>\n      <td>...</td>\n      <td>False</td>\n      <td>False</td>\n      <td>False</td>\n      <td>False</td>\n      <td>False</td>\n      <td>False</td>\n      <td>False</td>\n      <td>False</td>\n      <td>False</td>\n      <td>False</td>\n    </tr>\n    <tr>\n      <th>616037</th>\n      <td>Thor: Love and Thunder</td>\n      <td>[Fantasy, Action, Comedy]</td>\n      <td>en</td>\n      <td>3643.289</td>\n      <td>2022-07-06</td>\n      <td>3233</td>\n      <td>['ex', 'girlfriend', 'hero', 'greek mythology'...</td>\n      <td>/pIkRyD18kl4FhoCNQuWxWu5cBLM.jpg</td>\n      <td>False</td>\n      <td>False</td>\n      <td>...</td>\n      <td>True</td>\n      <td>False</td>\n      <td>False</td>\n      <td>False</td>\n      <td>False</td>\n      <td>False</td>\n      <td>False</td>\n      <td>False</td>\n      <td>False</td>\n      <td>False</td>\n    </tr>\n  </tbody>\n</table>\n<p>5 rows × 27 columns</p>\n</div>"
     },
     "execution_count": 1,
     "metadata": {},
     "output_type": "execute_result"
    }
   ],
   "source": [
    "import pandas as pd\n",
    "\n",
    "the_movies = pd.read_pickle('data/tmdb-movies-220915-clean.pkl')\n",
    "the_movies.head()"
   ]
  },
  {
   "cell_type": "code",
   "execution_count": 2,
   "outputs": [
    {
     "name": "stdout",
     "output_type": "stream",
     "text": [
      "https://image.tmdb.org/t/p/w185/iRV0IB5xQeOymuGGUBarTecQVAl.jpg\n",
      "https://image.tmdb.org/t/p/w185/rugyJdeoJm7cSJL1q4jBpTNbxyU.jpg\n",
      "https://image.tmdb.org/t/p/w185/wE0I6efAW4cDDmZQWtwZMOW44EJ.jpg\n",
      "https://image.tmdb.org/t/p/w185/g8sclIV4gj1TZqUpnL82hKOTK3B.jpg\n",
      "https://image.tmdb.org/t/p/w185/pIkRyD18kl4FhoCNQuWxWu5cBLM.jpg\n"
     ]
    }
   ],
   "source": [
    "url_prefix = 'https://image.tmdb.org/t/p/w185'\n",
    "\n",
    "for url in the_movies['poster_path'][0:5]:\n",
    "    print(url_prefix + url)"
   ],
   "metadata": {
    "collapsed": false,
    "pycharm": {
     "name": "#%%\n"
    }
   }
  },
  {
   "cell_type": "code",
   "execution_count": 3,
   "outputs": [
    {
     "data": {
      "text/plain": "[Documentary]                                            56800\n[Drama]                                                  53411\n[Comedy]                                                 30953\n[Animation]                                              13071\n[Music]                                                  11897\n                                                         ...  \n[Mystery, Thriller, TV Movie, Drama]                         1\n[Science Fiction, Adventure, Action, Drama, TV Movie]        1\n[Mystery, Comedy, Drama, Fantasy]                            1\n[TV Movie, Horror, Science Fiction, Thriller]                1\n[Animation, Crime, Horror]                                   1\nName: genres, Length: 10072, dtype: int64"
     },
     "execution_count": 3,
     "metadata": {},
     "output_type": "execute_result"
    }
   ],
   "source": [
    "the_movies['genres'].value_counts()"
   ],
   "metadata": {
    "collapsed": false,
    "pycharm": {
     "name": "#%%\n"
    }
   }
  },
  {
   "cell_type": "code",
   "execution_count": 4,
   "outputs": [
    {
     "name": "stderr",
     "output_type": "stream",
     "text": [
      "100%|██████████| 348035/348035 [00:24<00:00, 14415.63it/s]\n"
     ]
    }
   ],
   "source": [
    "import requests\n",
    "from tqdm import tqdm\n",
    "\n",
    "urls=[]\n",
    "for i in tqdm(range(the_movies.shape[0])):\n",
    "    url_path = url_prefix + the_movies['poster_path'][i:i+1].values[0]\n",
    "    file_name = './data/tmdb/' + str(the_movies['poster_path'][i:i+1].index[0]) + '.jpg'\n",
    "    urls.append((file_name, url_path))"
   ],
   "metadata": {
    "collapsed": false,
    "pycharm": {
     "name": "#%%\n"
    }
   }
  },
  {
   "cell_type": "code",
   "execution_count": 20,
   "outputs": [],
   "source": [
    "def download_poster(url):\n",
    "    file_name, url_path = url\n",
    "    r = requests.get(url_path, stream=True)\n",
    "    if r.status_code == 200:\n",
    "        with open(file_name, 'wb') as f:\n",
    "            for chunk in r:\n",
    "                f.write(chunk)\n",
    "    else:\n",
    "        print(url_path)\n"
   ],
   "metadata": {
    "collapsed": false,
    "pycharm": {
     "name": "#%%\n"
    }
   }
  },
  {
   "cell_type": "code",
   "execution_count": null,
   "outputs": [],
   "source": [
    "from multiprocessing.pool import ThreadPool\n",
    "ThreadPool(9).imap_unordered(download_poster, urls)"
   ],
   "metadata": {
    "collapsed": false,
    "pycharm": {
     "name": "#%%\n"
    }
   }
  },
  {
   "cell_type": "code",
   "execution_count": 6,
   "outputs": [],
   "source": [
    "from os import listdir\n",
    "from os.path import isfile, join\n",
    "downloaded_files = ['./data/tmdb/' + f for f in listdir('./data/tmdb/') if isfile(join('./data/tmdb/', f))]"
   ],
   "metadata": {
    "collapsed": false,
    "pycharm": {
     "name": "#%%\n"
    }
   }
  },
  {
   "cell_type": "code",
   "execution_count": 8,
   "outputs": [],
   "source": [
    "images = list(list(zip(*urls))[0])"
   ],
   "metadata": {
    "collapsed": false,
    "pycharm": {
     "name": "#%%\n"
    }
   }
  },
  {
   "cell_type": "code",
   "execution_count": 13,
   "outputs": [],
   "source": [
    "missing = set(images) - set(downloaded_files)"
   ],
   "metadata": {
    "collapsed": false,
    "pycharm": {
     "name": "#%%\n"
    }
   }
  },
  {
   "cell_type": "code",
   "execution_count": 18,
   "outputs": [
    {
     "name": "stderr",
     "output_type": "stream",
     "text": [
      "100%|██████████| 348035/348035 [00:01<00:00, 304970.91it/s]\n"
     ]
    }
   ],
   "source": [
    "urls_missing = []\n",
    "for i in tqdm(range(len(urls))):\n",
    "    file_name = urls[i][0]\n",
    "    url_path = urls[i][1]\n",
    "    if urls[i][0] in missing:\n",
    "        urls_missing.append((file_name, url_path))"
   ],
   "metadata": {
    "collapsed": false,
    "pycharm": {
     "name": "#%%\n"
    }
   }
  },
  {
   "cell_type": "code",
   "execution_count": 21,
   "outputs": [],
   "source": [
    "for url in urls_missing:\n",
    "    download_poster(url)"
   ],
   "metadata": {
    "collapsed": false,
    "pycharm": {
     "name": "#%%\n"
    }
   }
  },
  {
   "cell_type": "code",
   "execution_count": null,
   "outputs": [],
   "source": [],
   "metadata": {
    "collapsed": false,
    "pycharm": {
     "name": "#%%\n"
    }
   }
  }
 ],
 "metadata": {
  "kernelspec": {
   "display_name": "Python 3",
   "language": "python",
   "name": "python3"
  },
  "language_info": {
   "codemirror_mode": {
    "name": "ipython",
    "version": 2
   },
   "file_extension": ".py",
   "mimetype": "text/x-python",
   "name": "python",
   "nbconvert_exporter": "python",
   "pygments_lexer": "ipython2",
   "version": "2.7.6"
  }
 },
 "nbformat": 4,
 "nbformat_minor": 0
}