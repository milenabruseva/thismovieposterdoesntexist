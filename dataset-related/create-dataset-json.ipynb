{
 "cells": [
  {
   "cell_type": "markdown",
   "source": [
    "Notebook to create json with filename and classes for styleGAN."
   ],
   "metadata": {
    "collapsed": false
   }
  },
  {
   "cell_type": "code",
   "execution_count": 1,
   "metadata": {
    "collapsed": true
   },
   "outputs": [],
   "source": [
    "import pandas as pd\n",
    "import json"
   ]
  },
  {
   "cell_type": "code",
   "execution_count": 2,
   "outputs": [],
   "source": [
    "movies = pd.read_pickle('../data/tmdb-movies-220915-clean.pkl')"
   ],
   "metadata": {
    "collapsed": false
   }
  },
  {
   "cell_type": "code",
   "execution_count": 54,
   "outputs": [],
   "source": [
    "datalabels = {\n",
    "    \"labels\":\n",
    "        []\n",
    "}"
   ],
   "metadata": {
    "collapsed": false
   }
  },
  {
   "cell_type": "code",
   "execution_count": 6,
   "outputs": [
    {
     "data": {
      "text/plain": "                                                   title  \\\nid                                                         \n760741                                             Beast   \n610150                     Dragon Ball Super: Super Hero   \n579974                                               RRR   \n532639                                         Pinocchio   \n616037                            Thor: Love and Thunder   \n...                                                  ...   \n770676                                     The Workplace   \n778942                               Looking for Nannerz   \n838059                                             Noire   \n780650                                         Chimbumbe   \n772736  Ayako Ishikawa - Genreless the Best Concert Tour   \n\n                                      genres original_language  popularity  \\\nid                                                                           \n760741                    [Thriller, Horror]                en    5056.663   \n610150  [Animation, Science Fiction, Action]                ja    3762.862   \n579974                       [Action, Drama]                te    3684.786   \n532639          [Fantasy, Adventure, Family]                en    3680.307   \n616037             [Fantasy, Action, Comedy]                en    3643.289   \n...                                      ...               ...         ...   \n770676      [Comedy, Drama, Science Fiction]                en       0.600   \n778942                              [Comedy]                en       0.600   \n838059                               [Drama]                fr       0.600   \n780650                             [Fantasy]                es       0.600   \n772736                               [Music]                en       0.600   \n\n       release_date  runtime  vote_count  \\\nid                                         \n760741   2022-08-11       93         284   \n610150   2022-06-11       99        1563   \n579974   2022-03-24      182         331   \n532639   2022-09-07      111         411   \n616037   2022-07-06      119        3233   \n...             ...      ...         ...   \n770676   2021-04-01       10           2   \n778942   2009-08-18       11           0   \n838059   2021-03-19       57           0   \n780650   2008-06-20       14           0   \n772736   2018-05-16        0           1   \n\n                                                 keywords  \\\nid                                                          \n760741                                    ['wild animal']   \n610150  ['android', 'sequel', 'attack', 'based on mang...   \n579974  ['revolution', 'liberation', 'freedom fighter'...   \n532639  ['fairy', 'musical', 'puppet', 'live action an...   \n616037  ['ex', 'girlfriend', 'hero', 'greek mythology'...   \n...                                                   ...   \n770676                                               ['']   \n778942                                               ['']   \n838059                                      ['biography']   \n780650                                               ['']   \n772736                                               ['']   \n\n                             poster_path  Thriller  ...  Comedy  TV Movie  \\\nid                                                  ...                     \n760741  /iRV0IB5xQeOymuGGUBarTecQVAl.jpg      True  ...   False     False   \n610150  /rugyJdeoJm7cSJL1q4jBpTNbxyU.jpg     False  ...   False     False   \n579974  /wE0I6efAW4cDDmZQWtwZMOW44EJ.jpg     False  ...   False     False   \n532639  /g8sclIV4gj1TZqUpnL82hKOTK3B.jpg     False  ...   False     False   \n616037  /pIkRyD18kl4FhoCNQuWxWu5cBLM.jpg     False  ...    True     False   \n...                                  ...       ...  ...     ...       ...   \n770676  /mokqnUgtoOOJEtVEd8K4r9hyzKC.jpg     False  ...    True     False   \n778942  /tWwQ2MOWMbXpqJAggBnmYrixRmy.jpg     False  ...    True     False   \n838059  /6T9I4SUatjkOY6eqQqmNT8kXs7R.jpg     False  ...   False     False   \n780650  /soSkzUEnN5UkfQB3KUYlOWTI0b1.jpg     False  ...   False     False   \n772736  /uTcX4VrlKTgoMMRtcWm0KeEscTP.jpg     False  ...   False     False   \n\n        Crime  Mystery    War  Romance  Music  History  Documentary  Western  \nid                                                                            \n760741  False    False  False    False  False    False        False    False  \n610150  False    False  False    False  False    False        False    False  \n579974  False    False  False    False  False    False        False    False  \n532639  False    False  False    False  False    False        False    False  \n616037  False    False  False    False  False    False        False    False  \n...       ...      ...    ...      ...    ...      ...          ...      ...  \n770676  False    False  False    False  False    False        False    False  \n778942  False    False  False    False  False    False        False    False  \n838059  False    False  False    False  False    False        False    False  \n780650  False    False  False    False  False    False        False    False  \n772736  False    False  False    False   True    False        False    False  \n\n[340746 rows x 28 columns]",
      "text/html": "<div>\n<style scoped>\n    .dataframe tbody tr th:only-of-type {\n        vertical-align: middle;\n    }\n\n    .dataframe tbody tr th {\n        vertical-align: top;\n    }\n\n    .dataframe thead th {\n        text-align: right;\n    }\n</style>\n<table border=\"1\" class=\"dataframe\">\n  <thead>\n    <tr style=\"text-align: right;\">\n      <th></th>\n      <th>title</th>\n      <th>genres</th>\n      <th>original_language</th>\n      <th>popularity</th>\n      <th>release_date</th>\n      <th>runtime</th>\n      <th>vote_count</th>\n      <th>keywords</th>\n      <th>poster_path</th>\n      <th>Thriller</th>\n      <th>...</th>\n      <th>Comedy</th>\n      <th>TV Movie</th>\n      <th>Crime</th>\n      <th>Mystery</th>\n      <th>War</th>\n      <th>Romance</th>\n      <th>Music</th>\n      <th>History</th>\n      <th>Documentary</th>\n      <th>Western</th>\n    </tr>\n    <tr>\n      <th>id</th>\n      <th></th>\n      <th></th>\n      <th></th>\n      <th></th>\n      <th></th>\n      <th></th>\n      <th></th>\n      <th></th>\n      <th></th>\n      <th></th>\n      <th></th>\n      <th></th>\n      <th></th>\n      <th></th>\n      <th></th>\n      <th></th>\n      <th></th>\n      <th></th>\n      <th></th>\n      <th></th>\n      <th></th>\n    </tr>\n  </thead>\n  <tbody>\n    <tr>\n      <th>760741</th>\n      <td>Beast</td>\n      <td>[Thriller, Horror]</td>\n      <td>en</td>\n      <td>5056.663</td>\n      <td>2022-08-11</td>\n      <td>93</td>\n      <td>284</td>\n      <td>['wild animal']</td>\n      <td>/iRV0IB5xQeOymuGGUBarTecQVAl.jpg</td>\n      <td>True</td>\n      <td>...</td>\n      <td>False</td>\n      <td>False</td>\n      <td>False</td>\n      <td>False</td>\n      <td>False</td>\n      <td>False</td>\n      <td>False</td>\n      <td>False</td>\n      <td>False</td>\n      <td>False</td>\n    </tr>\n    <tr>\n      <th>610150</th>\n      <td>Dragon Ball Super: Super Hero</td>\n      <td>[Animation, Science Fiction, Action]</td>\n      <td>ja</td>\n      <td>3762.862</td>\n      <td>2022-06-11</td>\n      <td>99</td>\n      <td>1563</td>\n      <td>['android', 'sequel', 'attack', 'based on mang...</td>\n      <td>/rugyJdeoJm7cSJL1q4jBpTNbxyU.jpg</td>\n      <td>False</td>\n      <td>...</td>\n      <td>False</td>\n      <td>False</td>\n      <td>False</td>\n      <td>False</td>\n      <td>False</td>\n      <td>False</td>\n      <td>False</td>\n      <td>False</td>\n      <td>False</td>\n      <td>False</td>\n    </tr>\n    <tr>\n      <th>579974</th>\n      <td>RRR</td>\n      <td>[Action, Drama]</td>\n      <td>te</td>\n      <td>3684.786</td>\n      <td>2022-03-24</td>\n      <td>182</td>\n      <td>331</td>\n      <td>['revolution', 'liberation', 'freedom fighter'...</td>\n      <td>/wE0I6efAW4cDDmZQWtwZMOW44EJ.jpg</td>\n      <td>False</td>\n      <td>...</td>\n      <td>False</td>\n      <td>False</td>\n      <td>False</td>\n      <td>False</td>\n      <td>False</td>\n      <td>False</td>\n      <td>False</td>\n      <td>False</td>\n      <td>False</td>\n      <td>False</td>\n    </tr>\n    <tr>\n      <th>532639</th>\n      <td>Pinocchio</td>\n      <td>[Fantasy, Adventure, Family]</td>\n      <td>en</td>\n      <td>3680.307</td>\n      <td>2022-09-07</td>\n      <td>111</td>\n      <td>411</td>\n      <td>['fairy', 'musical', 'puppet', 'live action an...</td>\n      <td>/g8sclIV4gj1TZqUpnL82hKOTK3B.jpg</td>\n      <td>False</td>\n      <td>...</td>\n      <td>False</td>\n      <td>False</td>\n      <td>False</td>\n      <td>False</td>\n      <td>False</td>\n      <td>False</td>\n      <td>False</td>\n      <td>False</td>\n      <td>False</td>\n      <td>False</td>\n    </tr>\n    <tr>\n      <th>616037</th>\n      <td>Thor: Love and Thunder</td>\n      <td>[Fantasy, Action, Comedy]</td>\n      <td>en</td>\n      <td>3643.289</td>\n      <td>2022-07-06</td>\n      <td>119</td>\n      <td>3233</td>\n      <td>['ex', 'girlfriend', 'hero', 'greek mythology'...</td>\n      <td>/pIkRyD18kl4FhoCNQuWxWu5cBLM.jpg</td>\n      <td>False</td>\n      <td>...</td>\n      <td>True</td>\n      <td>False</td>\n      <td>False</td>\n      <td>False</td>\n      <td>False</td>\n      <td>False</td>\n      <td>False</td>\n      <td>False</td>\n      <td>False</td>\n      <td>False</td>\n    </tr>\n    <tr>\n      <th>...</th>\n      <td>...</td>\n      <td>...</td>\n      <td>...</td>\n      <td>...</td>\n      <td>...</td>\n      <td>...</td>\n      <td>...</td>\n      <td>...</td>\n      <td>...</td>\n      <td>...</td>\n      <td>...</td>\n      <td>...</td>\n      <td>...</td>\n      <td>...</td>\n      <td>...</td>\n      <td>...</td>\n      <td>...</td>\n      <td>...</td>\n      <td>...</td>\n      <td>...</td>\n      <td>...</td>\n    </tr>\n    <tr>\n      <th>770676</th>\n      <td>The Workplace</td>\n      <td>[Comedy, Drama, Science Fiction]</td>\n      <td>en</td>\n      <td>0.600</td>\n      <td>2021-04-01</td>\n      <td>10</td>\n      <td>2</td>\n      <td>['']</td>\n      <td>/mokqnUgtoOOJEtVEd8K4r9hyzKC.jpg</td>\n      <td>False</td>\n      <td>...</td>\n      <td>True</td>\n      <td>False</td>\n      <td>False</td>\n      <td>False</td>\n      <td>False</td>\n      <td>False</td>\n      <td>False</td>\n      <td>False</td>\n      <td>False</td>\n      <td>False</td>\n    </tr>\n    <tr>\n      <th>778942</th>\n      <td>Looking for Nannerz</td>\n      <td>[Comedy]</td>\n      <td>en</td>\n      <td>0.600</td>\n      <td>2009-08-18</td>\n      <td>11</td>\n      <td>0</td>\n      <td>['']</td>\n      <td>/tWwQ2MOWMbXpqJAggBnmYrixRmy.jpg</td>\n      <td>False</td>\n      <td>...</td>\n      <td>True</td>\n      <td>False</td>\n      <td>False</td>\n      <td>False</td>\n      <td>False</td>\n      <td>False</td>\n      <td>False</td>\n      <td>False</td>\n      <td>False</td>\n      <td>False</td>\n    </tr>\n    <tr>\n      <th>838059</th>\n      <td>Noire</td>\n      <td>[Drama]</td>\n      <td>fr</td>\n      <td>0.600</td>\n      <td>2021-03-19</td>\n      <td>57</td>\n      <td>0</td>\n      <td>['biography']</td>\n      <td>/6T9I4SUatjkOY6eqQqmNT8kXs7R.jpg</td>\n      <td>False</td>\n      <td>...</td>\n      <td>False</td>\n      <td>False</td>\n      <td>False</td>\n      <td>False</td>\n      <td>False</td>\n      <td>False</td>\n      <td>False</td>\n      <td>False</td>\n      <td>False</td>\n      <td>False</td>\n    </tr>\n    <tr>\n      <th>780650</th>\n      <td>Chimbumbe</td>\n      <td>[Fantasy]</td>\n      <td>es</td>\n      <td>0.600</td>\n      <td>2008-06-20</td>\n      <td>14</td>\n      <td>0</td>\n      <td>['']</td>\n      <td>/soSkzUEnN5UkfQB3KUYlOWTI0b1.jpg</td>\n      <td>False</td>\n      <td>...</td>\n      <td>False</td>\n      <td>False</td>\n      <td>False</td>\n      <td>False</td>\n      <td>False</td>\n      <td>False</td>\n      <td>False</td>\n      <td>False</td>\n      <td>False</td>\n      <td>False</td>\n    </tr>\n    <tr>\n      <th>772736</th>\n      <td>Ayako Ishikawa - Genreless the Best Concert Tour</td>\n      <td>[Music]</td>\n      <td>en</td>\n      <td>0.600</td>\n      <td>2018-05-16</td>\n      <td>0</td>\n      <td>1</td>\n      <td>['']</td>\n      <td>/uTcX4VrlKTgoMMRtcWm0KeEscTP.jpg</td>\n      <td>False</td>\n      <td>...</td>\n      <td>False</td>\n      <td>False</td>\n      <td>False</td>\n      <td>False</td>\n      <td>False</td>\n      <td>False</td>\n      <td>True</td>\n      <td>False</td>\n      <td>False</td>\n      <td>False</td>\n    </tr>\n  </tbody>\n</table>\n<p>340746 rows × 28 columns</p>\n</div>"
     },
     "execution_count": 6,
     "metadata": {},
     "output_type": "execute_result"
    }
   ],
   "source": [
    "movies"
   ],
   "metadata": {
    "collapsed": false
   }
  },
  {
   "cell_type": "markdown",
   "source": [
    "### Adding every movie as many times as it has genres."
   ],
   "metadata": {
    "collapsed": false
   }
  },
  {
   "cell_type": "code",
   "execution_count": 3,
   "outputs": [],
   "source": [
    "movies.drop(columns=['title', 'genres', 'original_language', 'popularity', 'release_date', 'runtime', 'vote_count', 'keywords', 'poster_path'], inplace=True)"
   ],
   "metadata": {
    "collapsed": false
   }
  },
  {
   "cell_type": "code",
   "execution_count": 36,
   "outputs": [],
   "source": [
    "for idx, column in enumerate(movies):\n",
    "    relevant_ids = movies[movies[column]].index.values.tolist()\n",
    "    for id in relevant_ids:\n",
    "        datalabels[\"labels\"].append([\"00000/\"+str(id)+\".png\", idx])"
   ],
   "metadata": {
    "collapsed": false
   }
  },
  {
   "cell_type": "code",
   "execution_count": 37,
   "outputs": [],
   "source": [
    "with open('dataset-multiple-instances.json', 'w') as outfile:\n",
    "    json.dump(datalabels, outfile)"
   ],
   "metadata": {
    "collapsed": false
   }
  },
  {
   "cell_type": "markdown",
   "source": [
    "### Adding every image once with array of genres."
   ],
   "metadata": {
    "collapsed": false
   }
  },
  {
   "cell_type": "code",
   "execution_count": 52,
   "outputs": [],
   "source": [
    "movies_dict = {}\n",
    "\n",
    "for index, row in movies.iterrows():\n",
    "    movies_dict[index] = []\n",
    "    for idx, column in enumerate(movies):\n",
    "        if row[column]:\n",
    "            movies_dict[index].append(idx)"
   ],
   "metadata": {
    "collapsed": false
   }
  },
  {
   "cell_type": "code",
   "execution_count": 55,
   "outputs": [],
   "source": [
    "datalabels = {\"labels\":[]}\n",
    "for id, genres in movies_dict.items():\n",
    "    datalabels[\"labels\"].append([\"00000/\"+str(id)+\".png\", genres])"
   ],
   "metadata": {
    "collapsed": false
   }
  },
  {
   "cell_type": "code",
   "execution_count": 56,
   "outputs": [],
   "source": [
    "with open('dataset-multiple-genres.json', 'w') as outfile:\n",
    "    json.dump(datalabels, outfile)"
   ],
   "metadata": {
    "collapsed": false
   }
  },
  {
   "cell_type": "markdown",
   "source": [
    "### Choose a random genre."
   ],
   "metadata": {
    "collapsed": false
   }
  },
  {
   "cell_type": "code",
   "execution_count": 60,
   "outputs": [],
   "source": [
    "number_of_randoms = 10"
   ],
   "metadata": {
    "collapsed": false
   }
  },
  {
   "cell_type": "code",
   "execution_count": 62,
   "outputs": [],
   "source": [
    "import random\n",
    "\n",
    "for it in range(number_of_randoms):\n",
    "    datalabels = {\"labels\":[]}\n",
    "    for id, genres in movies_dict.items():\n",
    "        datalabels[\"labels\"].append([\"00000/\"+str(id)+\".png\", random.choice(genres)])\n",
    "\n",
    "    with open(\"dataset-random-\"+str(it)+\".json\", 'w') as outfile:\n",
    "        json.dump(datalabels, outfile)"
   ],
   "metadata": {
    "collapsed": false
   }
  },
  {
   "cell_type": "markdown",
   "source": [
    "### Check for Movies w/o genre."
   ],
   "metadata": {
    "collapsed": false
   }
  },
  {
   "cell_type": "code",
   "execution_count": 9,
   "outputs": [],
   "source": [
    "without_genre = movies\n",
    "without_genre[\"hasgenre\"] = False\n",
    "for column in movies:\n",
    "    without_genre[\"hasgenre\"] = without_genre[\"hasgenre\"] | movies[column]"
   ],
   "metadata": {
    "collapsed": false
   }
  },
  {
   "cell_type": "code",
   "execution_count": 13,
   "outputs": [
    {
     "data": {
      "text/plain": "Empty DataFrame\nColumns: [Thriller, Horror, Animation, Science Fiction, Action, Drama, Fantasy, Adventure, Family, Comedy, TV Movie, Crime, Mystery, War, Romance, Music, History, Documentary, Western, hasgenre]\nIndex: []",
      "text/html": "<div>\n<style scoped>\n    .dataframe tbody tr th:only-of-type {\n        vertical-align: middle;\n    }\n\n    .dataframe tbody tr th {\n        vertical-align: top;\n    }\n\n    .dataframe thead th {\n        text-align: right;\n    }\n</style>\n<table border=\"1\" class=\"dataframe\">\n  <thead>\n    <tr style=\"text-align: right;\">\n      <th></th>\n      <th>Thriller</th>\n      <th>Horror</th>\n      <th>Animation</th>\n      <th>Science Fiction</th>\n      <th>Action</th>\n      <th>Drama</th>\n      <th>Fantasy</th>\n      <th>Adventure</th>\n      <th>Family</th>\n      <th>Comedy</th>\n      <th>TV Movie</th>\n      <th>Crime</th>\n      <th>Mystery</th>\n      <th>War</th>\n      <th>Romance</th>\n      <th>Music</th>\n      <th>History</th>\n      <th>Documentary</th>\n      <th>Western</th>\n      <th>hasgenre</th>\n    </tr>\n    <tr>\n      <th>id</th>\n      <th></th>\n      <th></th>\n      <th></th>\n      <th></th>\n      <th></th>\n      <th></th>\n      <th></th>\n      <th></th>\n      <th></th>\n      <th></th>\n      <th></th>\n      <th></th>\n      <th></th>\n      <th></th>\n      <th></th>\n      <th></th>\n      <th></th>\n      <th></th>\n      <th></th>\n      <th></th>\n    </tr>\n  </thead>\n  <tbody>\n  </tbody>\n</table>\n</div>"
     },
     "execution_count": 13,
     "metadata": {},
     "output_type": "execute_result"
    }
   ],
   "source": [
    "movies[without_genre.hasgenre == False]"
   ],
   "metadata": {
    "collapsed": false
   }
  }
 ],
 "metadata": {
  "kernelspec": {
   "display_name": "Python 3",
   "language": "python",
   "name": "python3"
  },
  "language_info": {
   "codemirror_mode": {
    "name": "ipython",
    "version": 2
   },
   "file_extension": ".py",
   "mimetype": "text/x-python",
   "name": "python",
   "nbconvert_exporter": "python",
   "pygments_lexer": "ipython2",
   "version": "2.7.6"
  }
 },
 "nbformat": 4,
 "nbformat_minor": 0
}
