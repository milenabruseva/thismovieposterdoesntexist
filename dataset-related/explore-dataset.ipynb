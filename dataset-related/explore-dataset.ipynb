{
 "cells": [
  {
   "cell_type": "code",
   "execution_count": 1,
   "metadata": {
    "collapsed": true
   },
   "outputs": [],
   "source": [
    "import pandas as pd"
   ]
  },
  {
   "cell_type": "code",
   "execution_count": 2,
   "outputs": [],
   "source": [
    "movies = pd.read_csv('../data/tmdb-movies-220915.csv')\n",
    "movies = movies.convert_dtypes()"
   ],
   "metadata": {
    "collapsed": false
   }
  },
  {
   "cell_type": "code",
   "execution_count": 3,
   "outputs": [
    {
     "data": {
      "text/plain": "       id                          title                            genres  \\\n0  760741                          Beast                   Thriller-Horror   \n1  610150  Dragon Ball Super: Super Hero  Animation-Science Fiction-Action   \n2  579974                            RRR                      Action-Drama   \n3  532639                      Pinocchio          Fantasy-Adventure-Family   \n4  616037         Thor: Love and Thunder             Fantasy-Action-Comedy   \n\n  original_language                                           overview  \\\n0                en  A recently widowed man and his two teenage dau...   \n1                ja  The Red Ribbon Army an evil organization that ...   \n2                te  A fictional history of two legendary revolutio...   \n3                en  A wooden puppet embarks on a thrilling adventu...   \n4                en  After his retirement is interrupted by Gorr th...   \n\n   popularity                               production_companies release_date  \\\n0    5056.663  Universal Pictures-Will Packer Productions-RVK...   2022-08-11   \n1    3762.862  Shueisha-Fuji Television Network-Toei Animatio...   2022-06-11   \n2    3684.786     Lyca Productions-DVV Entertainment-Pen Studios   2022-03-24   \n3    3680.307                Walt Disney Pictures-Depth of Field   2022-09-07   \n4    3643.289             Marvel Studios-Kevin Feige Productions   2022-07-06   \n\n        budget      revenue  runtime    status  \\\n0          0.0   47000000.0       93  Released   \n1          0.0   70000000.0       99  Released   \n2   69000000.0  160000000.0      182  Released   \n3          0.0          0.0      111  Released   \n4  250000000.0  758004063.0      119  Released   \n\n                                   tagline  vote_average  vote_count  \\\n0                        Fight for family.           7.1         284   \n1  A super awakening and calamity is born.         8.003        1563   \n2                      Rise, roar, revolt.         7.858         331   \n3                    The timeless classic.         6.789         411   \n4                 The one is not the only.         6.803        3233   \n\n                                             credits  \\\n0  Idris Elba-Leah Jeffries-Iyana Halley-Sharlto ...   \n1  Masako Nozawa-Toshio Furukawa-Yuko Minaguchi-H...   \n2  N.T. Rama Rao Jr.-Ram Charan-Alia Bhatt-Ajay D...   \n3  Tom Hanks-Benjamin Evan Ainsworth-Luke Evans-C...   \n4  Chris Hemsworth-Natalie Portman-Christian Bale...   \n\n                                            keywords  \\\n0                                        wild animal   \n1  android-sequel-attack-based on manga-fighting-...   \n2  revolution-liberation-freedom fighter-british ...   \n3  fairy-musical-puppet-live action and animation...   \n4  ex-girlfriend-hero-greek mythology-sequel-supe...   \n\n                        poster_path                     backdrop_path  \\\n0  /iRV0IB5xQeOymuGGUBarTecQVAl.jpg  /2k9tBql5GYH328Krj66tDT9LtFZ.jpg   \n1  /rugyJdeoJm7cSJL1q4jBpTNbxyU.jpg  /ugS5FVfCI3RV0ZwZtBV3HAV75OX.jpg   \n2  /wE0I6efAW4cDDmZQWtwZMOW44EJ.jpg  /i0Y0wP8H6SRgjr6QmuwbtQbS24D.jpg   \n3  /g8sclIV4gj1TZqUpnL82hKOTK3B.jpg  /lv4mA4jOnRSQCkmDYUyZ8ON43Dc.jpg   \n4  /pIkRyD18kl4FhoCNQuWxWu5cBLM.jpg  /jsoz1HlxczSuTx0mDl2h0lxy36l.jpg   \n\n                                     recommendations  \n0  718930-1008014-539681-755566-791155-766507-614...  \n1  507086-629015-616037-810693-361743-438148-7788...  \n2  601337-889741-587412-766116-792358-680058-2372...  \n3                                               <NA>  \n4  2-438148-45920-507086-361743-919355-748918-718...  ",
      "text/html": "<div>\n<style scoped>\n    .dataframe tbody tr th:only-of-type {\n        vertical-align: middle;\n    }\n\n    .dataframe tbody tr th {\n        vertical-align: top;\n    }\n\n    .dataframe thead th {\n        text-align: right;\n    }\n</style>\n<table border=\"1\" class=\"dataframe\">\n  <thead>\n    <tr style=\"text-align: right;\">\n      <th></th>\n      <th>id</th>\n      <th>title</th>\n      <th>genres</th>\n      <th>original_language</th>\n      <th>overview</th>\n      <th>popularity</th>\n      <th>production_companies</th>\n      <th>release_date</th>\n      <th>budget</th>\n      <th>revenue</th>\n      <th>runtime</th>\n      <th>status</th>\n      <th>tagline</th>\n      <th>vote_average</th>\n      <th>vote_count</th>\n      <th>credits</th>\n      <th>keywords</th>\n      <th>poster_path</th>\n      <th>backdrop_path</th>\n      <th>recommendations</th>\n    </tr>\n  </thead>\n  <tbody>\n    <tr>\n      <th>0</th>\n      <td>760741</td>\n      <td>Beast</td>\n      <td>Thriller-Horror</td>\n      <td>en</td>\n      <td>A recently widowed man and his two teenage dau...</td>\n      <td>5056.663</td>\n      <td>Universal Pictures-Will Packer Productions-RVK...</td>\n      <td>2022-08-11</td>\n      <td>0.0</td>\n      <td>47000000.0</td>\n      <td>93</td>\n      <td>Released</td>\n      <td>Fight for family.</td>\n      <td>7.1</td>\n      <td>284</td>\n      <td>Idris Elba-Leah Jeffries-Iyana Halley-Sharlto ...</td>\n      <td>wild animal</td>\n      <td>/iRV0IB5xQeOymuGGUBarTecQVAl.jpg</td>\n      <td>/2k9tBql5GYH328Krj66tDT9LtFZ.jpg</td>\n      <td>718930-1008014-539681-755566-791155-766507-614...</td>\n    </tr>\n    <tr>\n      <th>1</th>\n      <td>610150</td>\n      <td>Dragon Ball Super: Super Hero</td>\n      <td>Animation-Science Fiction-Action</td>\n      <td>ja</td>\n      <td>The Red Ribbon Army an evil organization that ...</td>\n      <td>3762.862</td>\n      <td>Shueisha-Fuji Television Network-Toei Animatio...</td>\n      <td>2022-06-11</td>\n      <td>0.0</td>\n      <td>70000000.0</td>\n      <td>99</td>\n      <td>Released</td>\n      <td>A super awakening and calamity is born.</td>\n      <td>8.003</td>\n      <td>1563</td>\n      <td>Masako Nozawa-Toshio Furukawa-Yuko Minaguchi-H...</td>\n      <td>android-sequel-attack-based on manga-fighting-...</td>\n      <td>/rugyJdeoJm7cSJL1q4jBpTNbxyU.jpg</td>\n      <td>/ugS5FVfCI3RV0ZwZtBV3HAV75OX.jpg</td>\n      <td>507086-629015-616037-810693-361743-438148-7788...</td>\n    </tr>\n    <tr>\n      <th>2</th>\n      <td>579974</td>\n      <td>RRR</td>\n      <td>Action-Drama</td>\n      <td>te</td>\n      <td>A fictional history of two legendary revolutio...</td>\n      <td>3684.786</td>\n      <td>Lyca Productions-DVV Entertainment-Pen Studios</td>\n      <td>2022-03-24</td>\n      <td>69000000.0</td>\n      <td>160000000.0</td>\n      <td>182</td>\n      <td>Released</td>\n      <td>Rise, roar, revolt.</td>\n      <td>7.858</td>\n      <td>331</td>\n      <td>N.T. Rama Rao Jr.-Ram Charan-Alia Bhatt-Ajay D...</td>\n      <td>revolution-liberation-freedom fighter-british ...</td>\n      <td>/wE0I6efAW4cDDmZQWtwZMOW44EJ.jpg</td>\n      <td>/i0Y0wP8H6SRgjr6QmuwbtQbS24D.jpg</td>\n      <td>601337-889741-587412-766116-792358-680058-2372...</td>\n    </tr>\n    <tr>\n      <th>3</th>\n      <td>532639</td>\n      <td>Pinocchio</td>\n      <td>Fantasy-Adventure-Family</td>\n      <td>en</td>\n      <td>A wooden puppet embarks on a thrilling adventu...</td>\n      <td>3680.307</td>\n      <td>Walt Disney Pictures-Depth of Field</td>\n      <td>2022-09-07</td>\n      <td>0.0</td>\n      <td>0.0</td>\n      <td>111</td>\n      <td>Released</td>\n      <td>The timeless classic.</td>\n      <td>6.789</td>\n      <td>411</td>\n      <td>Tom Hanks-Benjamin Evan Ainsworth-Luke Evans-C...</td>\n      <td>fairy-musical-puppet-live action and animation...</td>\n      <td>/g8sclIV4gj1TZqUpnL82hKOTK3B.jpg</td>\n      <td>/lv4mA4jOnRSQCkmDYUyZ8ON43Dc.jpg</td>\n      <td>&lt;NA&gt;</td>\n    </tr>\n    <tr>\n      <th>4</th>\n      <td>616037</td>\n      <td>Thor: Love and Thunder</td>\n      <td>Fantasy-Action-Comedy</td>\n      <td>en</td>\n      <td>After his retirement is interrupted by Gorr th...</td>\n      <td>3643.289</td>\n      <td>Marvel Studios-Kevin Feige Productions</td>\n      <td>2022-07-06</td>\n      <td>250000000.0</td>\n      <td>758004063.0</td>\n      <td>119</td>\n      <td>Released</td>\n      <td>The one is not the only.</td>\n      <td>6.803</td>\n      <td>3233</td>\n      <td>Chris Hemsworth-Natalie Portman-Christian Bale...</td>\n      <td>ex-girlfriend-hero-greek mythology-sequel-supe...</td>\n      <td>/pIkRyD18kl4FhoCNQuWxWu5cBLM.jpg</td>\n      <td>/jsoz1HlxczSuTx0mDl2h0lxy36l.jpg</td>\n      <td>2-438148-45920-507086-361743-919355-748918-718...</td>\n    </tr>\n  </tbody>\n</table>\n</div>"
     },
     "execution_count": 3,
     "metadata": {},
     "output_type": "execute_result"
    }
   ],
   "source": [
    "movies.head()"
   ],
   "metadata": {
    "collapsed": false
   }
  },
  {
   "cell_type": "code",
   "execution_count": 4,
   "outputs": [
    {
     "name": "stdout",
     "output_type": "stream",
     "text": [
      "Number of entries:  747532\n",
      "Number of unique ids:  662083\n"
     ]
    }
   ],
   "source": [
    "print('Number of entries: ',movies.shape[0])\n",
    "print('Number of unique ids: ',movies.id.nunique())"
   ],
   "metadata": {
    "collapsed": false
   }
  },
  {
   "cell_type": "code",
   "execution_count": 5,
   "outputs": [
    {
     "data": {
      "text/plain": "                                title                            genres  \\\nid                                                                        \n760741                          Beast                   Thriller-Horror   \n610150  Dragon Ball Super: Super Hero  Animation-Science Fiction-Action   \n579974                            RRR                      Action-Drama   \n532639                      Pinocchio          Fantasy-Adventure-Family   \n616037         Thor: Love and Thunder             Fantasy-Action-Comedy   \n\n       original_language                                           overview  \\\nid                                                                            \n760741                en  A recently widowed man and his two teenage dau...   \n610150                ja  The Red Ribbon Army an evil organization that ...   \n579974                te  A fictional history of two legendary revolutio...   \n532639                en  A wooden puppet embarks on a thrilling adventu...   \n616037                en  After his retirement is interrupted by Gorr th...   \n\n        popularity                               production_companies  \\\nid                                                                      \n760741    5056.663  Universal Pictures-Will Packer Productions-RVK...   \n610150    3762.862  Shueisha-Fuji Television Network-Toei Animatio...   \n579974    3684.786     Lyca Productions-DVV Entertainment-Pen Studios   \n532639    3680.307                Walt Disney Pictures-Depth of Field   \n616037    3643.289             Marvel Studios-Kevin Feige Productions   \n\n       release_date       budget      revenue  runtime    status  \\\nid                                                                 \n760741   2022-08-11          0.0   47000000.0       93  Released   \n610150   2022-06-11          0.0   70000000.0       99  Released   \n579974   2022-03-24   69000000.0  160000000.0      182  Released   \n532639   2022-09-07          0.0          0.0      111  Released   \n616037   2022-07-06  250000000.0  758004063.0      119  Released   \n\n                                        tagline  vote_average  vote_count  \\\nid                                                                          \n760741                        Fight for family.           7.1         284   \n610150  A super awakening and calamity is born.         8.003        1563   \n579974                      Rise, roar, revolt.         7.858         331   \n532639                    The timeless classic.         6.789         411   \n616037                 The one is not the only.         6.803        3233   \n\n                                                  credits  \\\nid                                                          \n760741  Idris Elba-Leah Jeffries-Iyana Halley-Sharlto ...   \n610150  Masako Nozawa-Toshio Furukawa-Yuko Minaguchi-H...   \n579974  N.T. Rama Rao Jr.-Ram Charan-Alia Bhatt-Ajay D...   \n532639  Tom Hanks-Benjamin Evan Ainsworth-Luke Evans-C...   \n616037  Chris Hemsworth-Natalie Portman-Christian Bale...   \n\n                                                 keywords  \\\nid                                                          \n760741                                        wild animal   \n610150  android-sequel-attack-based on manga-fighting-...   \n579974  revolution-liberation-freedom fighter-british ...   \n532639  fairy-musical-puppet-live action and animation...   \n616037  ex-girlfriend-hero-greek mythology-sequel-supe...   \n\n                             poster_path                     backdrop_path  \\\nid                                                                           \n760741  /iRV0IB5xQeOymuGGUBarTecQVAl.jpg  /2k9tBql5GYH328Krj66tDT9LtFZ.jpg   \n610150  /rugyJdeoJm7cSJL1q4jBpTNbxyU.jpg  /ugS5FVfCI3RV0ZwZtBV3HAV75OX.jpg   \n579974  /wE0I6efAW4cDDmZQWtwZMOW44EJ.jpg  /i0Y0wP8H6SRgjr6QmuwbtQbS24D.jpg   \n532639  /g8sclIV4gj1TZqUpnL82hKOTK3B.jpg  /lv4mA4jOnRSQCkmDYUyZ8ON43Dc.jpg   \n616037  /pIkRyD18kl4FhoCNQuWxWu5cBLM.jpg  /jsoz1HlxczSuTx0mDl2h0lxy36l.jpg   \n\n                                          recommendations  \nid                                                         \n760741  718930-1008014-539681-755566-791155-766507-614...  \n610150  507086-629015-616037-810693-361743-438148-7788...  \n579974  601337-889741-587412-766116-792358-680058-2372...  \n532639                                               <NA>  \n616037  2-438148-45920-507086-361743-919355-748918-718...  ",
      "text/html": "<div>\n<style scoped>\n    .dataframe tbody tr th:only-of-type {\n        vertical-align: middle;\n    }\n\n    .dataframe tbody tr th {\n        vertical-align: top;\n    }\n\n    .dataframe thead th {\n        text-align: right;\n    }\n</style>\n<table border=\"1\" class=\"dataframe\">\n  <thead>\n    <tr style=\"text-align: right;\">\n      <th></th>\n      <th>title</th>\n      <th>genres</th>\n      <th>original_language</th>\n      <th>overview</th>\n      <th>popularity</th>\n      <th>production_companies</th>\n      <th>release_date</th>\n      <th>budget</th>\n      <th>revenue</th>\n      <th>runtime</th>\n      <th>status</th>\n      <th>tagline</th>\n      <th>vote_average</th>\n      <th>vote_count</th>\n      <th>credits</th>\n      <th>keywords</th>\n      <th>poster_path</th>\n      <th>backdrop_path</th>\n      <th>recommendations</th>\n    </tr>\n    <tr>\n      <th>id</th>\n      <th></th>\n      <th></th>\n      <th></th>\n      <th></th>\n      <th></th>\n      <th></th>\n      <th></th>\n      <th></th>\n      <th></th>\n      <th></th>\n      <th></th>\n      <th></th>\n      <th></th>\n      <th></th>\n      <th></th>\n      <th></th>\n      <th></th>\n      <th></th>\n      <th></th>\n    </tr>\n  </thead>\n  <tbody>\n    <tr>\n      <th>760741</th>\n      <td>Beast</td>\n      <td>Thriller-Horror</td>\n      <td>en</td>\n      <td>A recently widowed man and his two teenage dau...</td>\n      <td>5056.663</td>\n      <td>Universal Pictures-Will Packer Productions-RVK...</td>\n      <td>2022-08-11</td>\n      <td>0.0</td>\n      <td>47000000.0</td>\n      <td>93</td>\n      <td>Released</td>\n      <td>Fight for family.</td>\n      <td>7.1</td>\n      <td>284</td>\n      <td>Idris Elba-Leah Jeffries-Iyana Halley-Sharlto ...</td>\n      <td>wild animal</td>\n      <td>/iRV0IB5xQeOymuGGUBarTecQVAl.jpg</td>\n      <td>/2k9tBql5GYH328Krj66tDT9LtFZ.jpg</td>\n      <td>718930-1008014-539681-755566-791155-766507-614...</td>\n    </tr>\n    <tr>\n      <th>610150</th>\n      <td>Dragon Ball Super: Super Hero</td>\n      <td>Animation-Science Fiction-Action</td>\n      <td>ja</td>\n      <td>The Red Ribbon Army an evil organization that ...</td>\n      <td>3762.862</td>\n      <td>Shueisha-Fuji Television Network-Toei Animatio...</td>\n      <td>2022-06-11</td>\n      <td>0.0</td>\n      <td>70000000.0</td>\n      <td>99</td>\n      <td>Released</td>\n      <td>A super awakening and calamity is born.</td>\n      <td>8.003</td>\n      <td>1563</td>\n      <td>Masako Nozawa-Toshio Furukawa-Yuko Minaguchi-H...</td>\n      <td>android-sequel-attack-based on manga-fighting-...</td>\n      <td>/rugyJdeoJm7cSJL1q4jBpTNbxyU.jpg</td>\n      <td>/ugS5FVfCI3RV0ZwZtBV3HAV75OX.jpg</td>\n      <td>507086-629015-616037-810693-361743-438148-7788...</td>\n    </tr>\n    <tr>\n      <th>579974</th>\n      <td>RRR</td>\n      <td>Action-Drama</td>\n      <td>te</td>\n      <td>A fictional history of two legendary revolutio...</td>\n      <td>3684.786</td>\n      <td>Lyca Productions-DVV Entertainment-Pen Studios</td>\n      <td>2022-03-24</td>\n      <td>69000000.0</td>\n      <td>160000000.0</td>\n      <td>182</td>\n      <td>Released</td>\n      <td>Rise, roar, revolt.</td>\n      <td>7.858</td>\n      <td>331</td>\n      <td>N.T. Rama Rao Jr.-Ram Charan-Alia Bhatt-Ajay D...</td>\n      <td>revolution-liberation-freedom fighter-british ...</td>\n      <td>/wE0I6efAW4cDDmZQWtwZMOW44EJ.jpg</td>\n      <td>/i0Y0wP8H6SRgjr6QmuwbtQbS24D.jpg</td>\n      <td>601337-889741-587412-766116-792358-680058-2372...</td>\n    </tr>\n    <tr>\n      <th>532639</th>\n      <td>Pinocchio</td>\n      <td>Fantasy-Adventure-Family</td>\n      <td>en</td>\n      <td>A wooden puppet embarks on a thrilling adventu...</td>\n      <td>3680.307</td>\n      <td>Walt Disney Pictures-Depth of Field</td>\n      <td>2022-09-07</td>\n      <td>0.0</td>\n      <td>0.0</td>\n      <td>111</td>\n      <td>Released</td>\n      <td>The timeless classic.</td>\n      <td>6.789</td>\n      <td>411</td>\n      <td>Tom Hanks-Benjamin Evan Ainsworth-Luke Evans-C...</td>\n      <td>fairy-musical-puppet-live action and animation...</td>\n      <td>/g8sclIV4gj1TZqUpnL82hKOTK3B.jpg</td>\n      <td>/lv4mA4jOnRSQCkmDYUyZ8ON43Dc.jpg</td>\n      <td>&lt;NA&gt;</td>\n    </tr>\n    <tr>\n      <th>616037</th>\n      <td>Thor: Love and Thunder</td>\n      <td>Fantasy-Action-Comedy</td>\n      <td>en</td>\n      <td>After his retirement is interrupted by Gorr th...</td>\n      <td>3643.289</td>\n      <td>Marvel Studios-Kevin Feige Productions</td>\n      <td>2022-07-06</td>\n      <td>250000000.0</td>\n      <td>758004063.0</td>\n      <td>119</td>\n      <td>Released</td>\n      <td>The one is not the only.</td>\n      <td>6.803</td>\n      <td>3233</td>\n      <td>Chris Hemsworth-Natalie Portman-Christian Bale...</td>\n      <td>ex-girlfriend-hero-greek mythology-sequel-supe...</td>\n      <td>/pIkRyD18kl4FhoCNQuWxWu5cBLM.jpg</td>\n      <td>/jsoz1HlxczSuTx0mDl2h0lxy36l.jpg</td>\n      <td>2-438148-45920-507086-361743-919355-748918-718...</td>\n    </tr>\n  </tbody>\n</table>\n</div>"
     },
     "execution_count": 5,
     "metadata": {},
     "output_type": "execute_result"
    }
   ],
   "source": [
    "movies = movies.drop_duplicates(subset='id', keep='last')\n",
    "movies.index = movies.id\n",
    "movies = movies.drop(columns=['id'])\n",
    "movies.head()"
   ],
   "metadata": {
    "collapsed": false
   }
  },
  {
   "cell_type": "code",
   "execution_count": 6,
   "outputs": [
    {
     "name": "stdout",
     "output_type": "stream",
     "text": [
      "<class 'pandas.core.frame.DataFrame'>\n",
      "Index: 662083 entries, 760741 to 968161\n",
      "Data columns (total 19 columns):\n",
      " #   Column                Non-Null Count   Dtype  \n",
      "---  ------                --------------   -----  \n",
      " 0   title                 662079 non-null  string \n",
      " 1   genres                454332 non-null  string \n",
      " 2   original_language     662083 non-null  string \n",
      " 3   overview              549763 non-null  string \n",
      " 4   popularity            662083 non-null  Float64\n",
      " 5   production_companies  296402 non-null  string \n",
      " 6   release_date          605853 non-null  string \n",
      " 7   budget                662083 non-null  Float64\n",
      " 8   revenue               662083 non-null  Float64\n",
      " 9   runtime               625631 non-null  Int64  \n",
      " 10  status                662083 non-null  string \n",
      " 11  tagline               94813 non-null   string \n",
      " 12  vote_average          662083 non-null  Float64\n",
      " 13  vote_count            662083 non-null  Int64  \n",
      " 14  credits               442009 non-null  string \n",
      " 15  keywords              184638 non-null  string \n",
      " 16  poster_path           472057 non-null  string \n",
      " 17  backdrop_path         187830 non-null  string \n",
      " 18  recommendations       40009 non-null   string \n",
      "dtypes: Float64(4), Int64(2), string(13)\n",
      "memory usage: 105.4 MB\n"
     ]
    }
   ],
   "source": [
    "movies.info()"
   ],
   "metadata": {
    "collapsed": false
   }
  },
  {
   "cell_type": "code",
   "execution_count": 7,
   "outputs": [
    {
     "data": {
      "text/plain": "                                title                            genres  \\\nid                                                                        \n760741                          Beast                   Thriller-Horror   \n610150  Dragon Ball Super: Super Hero  Animation-Science Fiction-Action   \n579974                            RRR                      Action-Drama   \n532639                      Pinocchio          Fantasy-Adventure-Family   \n616037         Thor: Love and Thunder             Fantasy-Action-Comedy   \n\n       original_language  popularity release_date  runtime  vote_count  \\\nid                                                                       \n760741                en    5056.663   2022-08-11       93         284   \n610150                ja    3762.862   2022-06-11       99        1563   \n579974                te    3684.786   2022-03-24      182         331   \n532639                en    3680.307   2022-09-07      111         411   \n616037                en    3643.289   2022-07-06      119        3233   \n\n                                                 keywords  \\\nid                                                          \n760741                                        wild animal   \n610150  android-sequel-attack-based on manga-fighting-...   \n579974  revolution-liberation-freedom fighter-british ...   \n532639  fairy-musical-puppet-live action and animation...   \n616037  ex-girlfriend-hero-greek mythology-sequel-supe...   \n\n                             poster_path  \nid                                        \n760741  /iRV0IB5xQeOymuGGUBarTecQVAl.jpg  \n610150  /rugyJdeoJm7cSJL1q4jBpTNbxyU.jpg  \n579974  /wE0I6efAW4cDDmZQWtwZMOW44EJ.jpg  \n532639  /g8sclIV4gj1TZqUpnL82hKOTK3B.jpg  \n616037  /pIkRyD18kl4FhoCNQuWxWu5cBLM.jpg  ",
      "text/html": "<div>\n<style scoped>\n    .dataframe tbody tr th:only-of-type {\n        vertical-align: middle;\n    }\n\n    .dataframe tbody tr th {\n        vertical-align: top;\n    }\n\n    .dataframe thead th {\n        text-align: right;\n    }\n</style>\n<table border=\"1\" class=\"dataframe\">\n  <thead>\n    <tr style=\"text-align: right;\">\n      <th></th>\n      <th>title</th>\n      <th>genres</th>\n      <th>original_language</th>\n      <th>popularity</th>\n      <th>release_date</th>\n      <th>runtime</th>\n      <th>vote_count</th>\n      <th>keywords</th>\n      <th>poster_path</th>\n    </tr>\n    <tr>\n      <th>id</th>\n      <th></th>\n      <th></th>\n      <th></th>\n      <th></th>\n      <th></th>\n      <th></th>\n      <th></th>\n      <th></th>\n      <th></th>\n    </tr>\n  </thead>\n  <tbody>\n    <tr>\n      <th>760741</th>\n      <td>Beast</td>\n      <td>Thriller-Horror</td>\n      <td>en</td>\n      <td>5056.663</td>\n      <td>2022-08-11</td>\n      <td>93</td>\n      <td>284</td>\n      <td>wild animal</td>\n      <td>/iRV0IB5xQeOymuGGUBarTecQVAl.jpg</td>\n    </tr>\n    <tr>\n      <th>610150</th>\n      <td>Dragon Ball Super: Super Hero</td>\n      <td>Animation-Science Fiction-Action</td>\n      <td>ja</td>\n      <td>3762.862</td>\n      <td>2022-06-11</td>\n      <td>99</td>\n      <td>1563</td>\n      <td>android-sequel-attack-based on manga-fighting-...</td>\n      <td>/rugyJdeoJm7cSJL1q4jBpTNbxyU.jpg</td>\n    </tr>\n    <tr>\n      <th>579974</th>\n      <td>RRR</td>\n      <td>Action-Drama</td>\n      <td>te</td>\n      <td>3684.786</td>\n      <td>2022-03-24</td>\n      <td>182</td>\n      <td>331</td>\n      <td>revolution-liberation-freedom fighter-british ...</td>\n      <td>/wE0I6efAW4cDDmZQWtwZMOW44EJ.jpg</td>\n    </tr>\n    <tr>\n      <th>532639</th>\n      <td>Pinocchio</td>\n      <td>Fantasy-Adventure-Family</td>\n      <td>en</td>\n      <td>3680.307</td>\n      <td>2022-09-07</td>\n      <td>111</td>\n      <td>411</td>\n      <td>fairy-musical-puppet-live action and animation...</td>\n      <td>/g8sclIV4gj1TZqUpnL82hKOTK3B.jpg</td>\n    </tr>\n    <tr>\n      <th>616037</th>\n      <td>Thor: Love and Thunder</td>\n      <td>Fantasy-Action-Comedy</td>\n      <td>en</td>\n      <td>3643.289</td>\n      <td>2022-07-06</td>\n      <td>119</td>\n      <td>3233</td>\n      <td>ex-girlfriend-hero-greek mythology-sequel-supe...</td>\n      <td>/pIkRyD18kl4FhoCNQuWxWu5cBLM.jpg</td>\n    </tr>\n  </tbody>\n</table>\n</div>"
     },
     "execution_count": 7,
     "metadata": {},
     "output_type": "execute_result"
    }
   ],
   "source": [
    "movies = movies.drop(columns=['overview','production_companies','budget','revenue','status','tagline','vote_average','credits','backdrop_path','recommendations'])\n",
    "movies.keywords = movies.keywords.fillna('')\n",
    "movies.head()"
   ],
   "metadata": {
    "collapsed": false
   }
  },
  {
   "cell_type": "code",
   "execution_count": 8,
   "outputs": [
    {
     "data": {
      "text/plain": "title                     4\ngenres               207751\noriginal_language         0\npopularity                0\nrelease_date          56230\nruntime               36452\nvote_count                0\nkeywords                  0\nposter_path          190026\ndtype: int64"
     },
     "execution_count": 8,
     "metadata": {},
     "output_type": "execute_result"
    }
   ],
   "source": [
    "movies.isna().sum()"
   ],
   "metadata": {
    "collapsed": false
   }
  },
  {
   "cell_type": "code",
   "execution_count": 9,
   "outputs": [],
   "source": [
    "movies.dropna(inplace=True)"
   ],
   "metadata": {
    "collapsed": false
   }
  },
  {
   "cell_type": "code",
   "execution_count": 10,
   "outputs": [],
   "source": [
    "movies.release_date = pd.to_datetime(movies.release_date)\n",
    "movies.genres = movies.genres.apply(lambda x: x.split('-'))\n",
    "movies.keywords = movies.keywords.apply(lambda x: x.split('-'))"
   ],
   "metadata": {
    "collapsed": false
   }
  },
  {
   "cell_type": "code",
   "execution_count": 11,
   "outputs": [
    {
     "name": "stdout",
     "output_type": "stream",
     "text": [
      "<class 'pandas.core.frame.DataFrame'>\n",
      "Index: 340746 entries, 760741 to 772736\n",
      "Data columns (total 9 columns):\n",
      " #   Column             Non-Null Count   Dtype         \n",
      "---  ------             --------------   -----         \n",
      " 0   title              340746 non-null  string        \n",
      " 1   genres             340746 non-null  object        \n",
      " 2   original_language  340746 non-null  string        \n",
      " 3   popularity         340746 non-null  Float64       \n",
      " 4   release_date       340746 non-null  datetime64[ns]\n",
      " 5   runtime            340746 non-null  Int64         \n",
      " 6   vote_count         340746 non-null  Int64         \n",
      " 7   keywords           340746 non-null  object        \n",
      " 8   poster_path        340746 non-null  string        \n",
      "dtypes: Float64(1), Int64(2), datetime64[ns](1), object(2), string(3)\n",
      "memory usage: 27.3+ MB\n"
     ]
    }
   ],
   "source": [
    "movies.info()"
   ],
   "metadata": {
    "collapsed": false
   }
  },
  {
   "cell_type": "code",
   "execution_count": 12,
   "outputs": [
    {
     "data": {
      "text/plain": "                                           title  \\\nid                                                 \n760741                                     Beast   \n610150             Dragon Ball Super: Super Hero   \n579974                                       RRR   \n532639                                 Pinocchio   \n616037                    Thor: Love and Thunder   \n629176                                 Samaritan   \n539681                   DC League of Super-Pets   \n766507                                      Prey   \n960700  Fullmetal Alchemist: The Revenge of Scar   \n956101                         The Eighth Clause   \n\n                                                   genres original_language  \\\nid                                                                            \n760741                                 [Thriller, Horror]                en   \n610150               [Animation, Science Fiction, Action]                ja   \n579974                                    [Action, Drama]                te   \n532639                       [Fantasy, Adventure, Family]                en   \n616037                          [Fantasy, Action, Comedy]                en   \n629176                   [Action, Drama, Science Fiction]                en   \n539681  [Animation, Action, Family, Science Fiction, C...                en   \n766507                [Thriller, Action, Science Fiction]                en   \n960700                       [Action, Adventure, Fantasy]                ja   \n956101                                         [Thriller]                la   \n\n        popularity release_date  runtime  vote_count  \\\nid                                                     \n760741    5056.663   2022-08-11       93         284   \n610150    3762.862   2022-06-11       99        1563   \n579974    3684.786   2022-03-24      182         331   \n532639    3680.307   2022-09-07      111         411   \n616037    3643.289   2022-07-06      119        3233   \n629176    3589.004   2022-08-25      102         932   \n539681    3493.847   2022-07-27      105         491   \n766507    3032.842   2022-08-02      100        3761   \n960700    2659.996   2022-05-20      125          81   \n956101    2259.303   2022-04-29        0          10   \n\n                                                 keywords  \\\nid                                                          \n760741                                      [wild animal]   \n610150  [android, sequel, attack, based on manga, figh...   \n579974  [revolution, liberation, freedom fighter, brit...   \n532639  [fairy, musical, puppet, live action and anima...   \n616037  [ex, girlfriend, hero, greek mythology, sequel...   \n629176  [superhero, old man, young boy, super power, e...   \n539681  [superhero, based on comic, super power, after...   \n766507  [hunter, alien life, form, prequel, alien, nat...   \n960700               [sequel, alchemy, live action anime]   \n956101                                                 []   \n\n                             poster_path  \nid                                        \n760741  /iRV0IB5xQeOymuGGUBarTecQVAl.jpg  \n610150  /rugyJdeoJm7cSJL1q4jBpTNbxyU.jpg  \n579974  /wE0I6efAW4cDDmZQWtwZMOW44EJ.jpg  \n532639  /g8sclIV4gj1TZqUpnL82hKOTK3B.jpg  \n616037  /pIkRyD18kl4FhoCNQuWxWu5cBLM.jpg  \n629176  /vwq5iboxYoaSpOmEQrhq9tHicq7.jpg  \n539681  /r7XifzvtezNt31ypvsmb6Oqxw49.jpg  \n766507  /ujr5pztc1oitbe7ViMUOilFaJ7s.jpg  \n960700  /c5OwwBNyJkwyroIOIJL9IiRjydR.jpg  \n956101  /8tc8eMFAX2SDC1TRu987qFQy8Cl.jpg  ",
      "text/html": "<div>\n<style scoped>\n    .dataframe tbody tr th:only-of-type {\n        vertical-align: middle;\n    }\n\n    .dataframe tbody tr th {\n        vertical-align: top;\n    }\n\n    .dataframe thead th {\n        text-align: right;\n    }\n</style>\n<table border=\"1\" class=\"dataframe\">\n  <thead>\n    <tr style=\"text-align: right;\">\n      <th></th>\n      <th>title</th>\n      <th>genres</th>\n      <th>original_language</th>\n      <th>popularity</th>\n      <th>release_date</th>\n      <th>runtime</th>\n      <th>vote_count</th>\n      <th>keywords</th>\n      <th>poster_path</th>\n    </tr>\n    <tr>\n      <th>id</th>\n      <th></th>\n      <th></th>\n      <th></th>\n      <th></th>\n      <th></th>\n      <th></th>\n      <th></th>\n      <th></th>\n      <th></th>\n    </tr>\n  </thead>\n  <tbody>\n    <tr>\n      <th>760741</th>\n      <td>Beast</td>\n      <td>[Thriller, Horror]</td>\n      <td>en</td>\n      <td>5056.663</td>\n      <td>2022-08-11</td>\n      <td>93</td>\n      <td>284</td>\n      <td>[wild animal]</td>\n      <td>/iRV0IB5xQeOymuGGUBarTecQVAl.jpg</td>\n    </tr>\n    <tr>\n      <th>610150</th>\n      <td>Dragon Ball Super: Super Hero</td>\n      <td>[Animation, Science Fiction, Action]</td>\n      <td>ja</td>\n      <td>3762.862</td>\n      <td>2022-06-11</td>\n      <td>99</td>\n      <td>1563</td>\n      <td>[android, sequel, attack, based on manga, figh...</td>\n      <td>/rugyJdeoJm7cSJL1q4jBpTNbxyU.jpg</td>\n    </tr>\n    <tr>\n      <th>579974</th>\n      <td>RRR</td>\n      <td>[Action, Drama]</td>\n      <td>te</td>\n      <td>3684.786</td>\n      <td>2022-03-24</td>\n      <td>182</td>\n      <td>331</td>\n      <td>[revolution, liberation, freedom fighter, brit...</td>\n      <td>/wE0I6efAW4cDDmZQWtwZMOW44EJ.jpg</td>\n    </tr>\n    <tr>\n      <th>532639</th>\n      <td>Pinocchio</td>\n      <td>[Fantasy, Adventure, Family]</td>\n      <td>en</td>\n      <td>3680.307</td>\n      <td>2022-09-07</td>\n      <td>111</td>\n      <td>411</td>\n      <td>[fairy, musical, puppet, live action and anima...</td>\n      <td>/g8sclIV4gj1TZqUpnL82hKOTK3B.jpg</td>\n    </tr>\n    <tr>\n      <th>616037</th>\n      <td>Thor: Love and Thunder</td>\n      <td>[Fantasy, Action, Comedy]</td>\n      <td>en</td>\n      <td>3643.289</td>\n      <td>2022-07-06</td>\n      <td>119</td>\n      <td>3233</td>\n      <td>[ex, girlfriend, hero, greek mythology, sequel...</td>\n      <td>/pIkRyD18kl4FhoCNQuWxWu5cBLM.jpg</td>\n    </tr>\n    <tr>\n      <th>629176</th>\n      <td>Samaritan</td>\n      <td>[Action, Drama, Science Fiction]</td>\n      <td>en</td>\n      <td>3589.004</td>\n      <td>2022-08-25</td>\n      <td>102</td>\n      <td>932</td>\n      <td>[superhero, old man, young boy, super power, e...</td>\n      <td>/vwq5iboxYoaSpOmEQrhq9tHicq7.jpg</td>\n    </tr>\n    <tr>\n      <th>539681</th>\n      <td>DC League of Super-Pets</td>\n      <td>[Animation, Action, Family, Science Fiction, C...</td>\n      <td>en</td>\n      <td>3493.847</td>\n      <td>2022-07-27</td>\n      <td>105</td>\n      <td>491</td>\n      <td>[superhero, based on comic, super power, after...</td>\n      <td>/r7XifzvtezNt31ypvsmb6Oqxw49.jpg</td>\n    </tr>\n    <tr>\n      <th>766507</th>\n      <td>Prey</td>\n      <td>[Thriller, Action, Science Fiction]</td>\n      <td>en</td>\n      <td>3032.842</td>\n      <td>2022-08-02</td>\n      <td>100</td>\n      <td>3761</td>\n      <td>[hunter, alien life, form, prequel, alien, nat...</td>\n      <td>/ujr5pztc1oitbe7ViMUOilFaJ7s.jpg</td>\n    </tr>\n    <tr>\n      <th>960700</th>\n      <td>Fullmetal Alchemist: The Revenge of Scar</td>\n      <td>[Action, Adventure, Fantasy]</td>\n      <td>ja</td>\n      <td>2659.996</td>\n      <td>2022-05-20</td>\n      <td>125</td>\n      <td>81</td>\n      <td>[sequel, alchemy, live action anime]</td>\n      <td>/c5OwwBNyJkwyroIOIJL9IiRjydR.jpg</td>\n    </tr>\n    <tr>\n      <th>956101</th>\n      <td>The Eighth Clause</td>\n      <td>[Thriller]</td>\n      <td>la</td>\n      <td>2259.303</td>\n      <td>2022-04-29</td>\n      <td>0</td>\n      <td>10</td>\n      <td>[]</td>\n      <td>/8tc8eMFAX2SDC1TRu987qFQy8Cl.jpg</td>\n    </tr>\n  </tbody>\n</table>\n</div>"
     },
     "execution_count": 12,
     "metadata": {},
     "output_type": "execute_result"
    }
   ],
   "source": [
    "movies.head(10)"
   ],
   "metadata": {
    "collapsed": false
   }
  },
  {
   "cell_type": "code",
   "execution_count": 13,
   "outputs": [
    {
     "data": {
      "text/plain": "       id                          title  \\\n0  760741                          Beast   \n1  610150  Dragon Ball Super: Super Hero   \n2  579974                            RRR   \n3  532639                      Pinocchio   \n4  616037         Thor: Love and Thunder   \n\n                                       genres original_language  popularity  \\\n0                      ['Thriller', 'Horror']                en    5056.663   \n1  ['Animation', 'Science Fiction', 'Action']                ja    3762.862   \n2                         ['Action', 'Drama']                te    3684.786   \n3          ['Fantasy', 'Adventure', 'Family']                en    3680.307   \n4             ['Fantasy', 'Action', 'Comedy']                en    3643.289   \n\n  release_date  runtime  vote_count  \\\n0   2022-08-11       93         284   \n1   2022-06-11       99        1563   \n2   2022-03-24      182         331   \n3   2022-09-07      111         411   \n4   2022-07-06      119        3233   \n\n                                            keywords  \\\n0                                    ['wild animal']   \n1  ['android', 'sequel', 'attack', 'based on mang...   \n2  ['revolution', 'liberation', 'freedom fighter'...   \n3  ['fairy', 'musical', 'puppet', 'live action an...   \n4  ['ex', 'girlfriend', 'hero', 'greek mythology'...   \n\n                        poster_path  \n0  /iRV0IB5xQeOymuGGUBarTecQVAl.jpg  \n1  /rugyJdeoJm7cSJL1q4jBpTNbxyU.jpg  \n2  /wE0I6efAW4cDDmZQWtwZMOW44EJ.jpg  \n3  /g8sclIV4gj1TZqUpnL82hKOTK3B.jpg  \n4  /pIkRyD18kl4FhoCNQuWxWu5cBLM.jpg  ",
      "text/html": "<div>\n<style scoped>\n    .dataframe tbody tr th:only-of-type {\n        vertical-align: middle;\n    }\n\n    .dataframe tbody tr th {\n        vertical-align: top;\n    }\n\n    .dataframe thead th {\n        text-align: right;\n    }\n</style>\n<table border=\"1\" class=\"dataframe\">\n  <thead>\n    <tr style=\"text-align: right;\">\n      <th></th>\n      <th>id</th>\n      <th>title</th>\n      <th>genres</th>\n      <th>original_language</th>\n      <th>popularity</th>\n      <th>release_date</th>\n      <th>runtime</th>\n      <th>vote_count</th>\n      <th>keywords</th>\n      <th>poster_path</th>\n    </tr>\n  </thead>\n  <tbody>\n    <tr>\n      <th>0</th>\n      <td>760741</td>\n      <td>Beast</td>\n      <td>['Thriller', 'Horror']</td>\n      <td>en</td>\n      <td>5056.663</td>\n      <td>2022-08-11</td>\n      <td>93</td>\n      <td>284</td>\n      <td>['wild animal']</td>\n      <td>/iRV0IB5xQeOymuGGUBarTecQVAl.jpg</td>\n    </tr>\n    <tr>\n      <th>1</th>\n      <td>610150</td>\n      <td>Dragon Ball Super: Super Hero</td>\n      <td>['Animation', 'Science Fiction', 'Action']</td>\n      <td>ja</td>\n      <td>3762.862</td>\n      <td>2022-06-11</td>\n      <td>99</td>\n      <td>1563</td>\n      <td>['android', 'sequel', 'attack', 'based on mang...</td>\n      <td>/rugyJdeoJm7cSJL1q4jBpTNbxyU.jpg</td>\n    </tr>\n    <tr>\n      <th>2</th>\n      <td>579974</td>\n      <td>RRR</td>\n      <td>['Action', 'Drama']</td>\n      <td>te</td>\n      <td>3684.786</td>\n      <td>2022-03-24</td>\n      <td>182</td>\n      <td>331</td>\n      <td>['revolution', 'liberation', 'freedom fighter'...</td>\n      <td>/wE0I6efAW4cDDmZQWtwZMOW44EJ.jpg</td>\n    </tr>\n    <tr>\n      <th>3</th>\n      <td>532639</td>\n      <td>Pinocchio</td>\n      <td>['Fantasy', 'Adventure', 'Family']</td>\n      <td>en</td>\n      <td>3680.307</td>\n      <td>2022-09-07</td>\n      <td>111</td>\n      <td>411</td>\n      <td>['fairy', 'musical', 'puppet', 'live action an...</td>\n      <td>/g8sclIV4gj1TZqUpnL82hKOTK3B.jpg</td>\n    </tr>\n    <tr>\n      <th>4</th>\n      <td>616037</td>\n      <td>Thor: Love and Thunder</td>\n      <td>['Fantasy', 'Action', 'Comedy']</td>\n      <td>en</td>\n      <td>3643.289</td>\n      <td>2022-07-06</td>\n      <td>119</td>\n      <td>3233</td>\n      <td>['ex', 'girlfriend', 'hero', 'greek mythology'...</td>\n      <td>/pIkRyD18kl4FhoCNQuWxWu5cBLM.jpg</td>\n    </tr>\n  </tbody>\n</table>\n</div>"
     },
     "execution_count": 13,
     "metadata": {},
     "output_type": "execute_result"
    }
   ],
   "source": [
    "movies.to_csv('../data/tmdb-movies-220915-clean.csv')\n",
    "movies_clean = pd.read_csv('../data/tmdb-movies-220915-clean.csv')\n",
    "movies_clean.head()"
   ],
   "metadata": {
    "collapsed": false
   }
  },
  {
   "cell_type": "code",
   "execution_count": 14,
   "outputs": [],
   "source": [
    "import ast\n",
    "\n",
    "movies_clean.genres = movies_clean.genres.apply(ast.literal_eval)"
   ],
   "metadata": {
    "collapsed": false
   }
  },
  {
   "cell_type": "code",
   "execution_count": 15,
   "outputs": [],
   "source": [
    "genre_dict = [{u:True for u in l} for l in movies_clean.genres.tolist()]"
   ],
   "metadata": {
    "collapsed": false
   }
  },
  {
   "cell_type": "code",
   "execution_count": 16,
   "outputs": [],
   "source": [
    "movies_clean = movies_clean.join(pd.DataFrame(genre_dict, index=movies_clean.index).fillna(False))"
   ],
   "metadata": {
    "collapsed": false
   }
  },
  {
   "cell_type": "code",
   "execution_count": 17,
   "outputs": [
    {
     "data": {
      "text/plain": "       id                          title  \\\n0  760741                          Beast   \n1  610150  Dragon Ball Super: Super Hero   \n2  579974                            RRR   \n3  532639                      Pinocchio   \n4  616037         Thor: Love and Thunder   \n\n                                 genres original_language  popularity  \\\n0                    [Thriller, Horror]                en    5056.663   \n1  [Animation, Science Fiction, Action]                ja    3762.862   \n2                       [Action, Drama]                te    3684.786   \n3          [Fantasy, Adventure, Family]                en    3680.307   \n4             [Fantasy, Action, Comedy]                en    3643.289   \n\n  release_date  runtime  vote_count  \\\n0   2022-08-11       93         284   \n1   2022-06-11       99        1563   \n2   2022-03-24      182         331   \n3   2022-09-07      111         411   \n4   2022-07-06      119        3233   \n\n                                            keywords  \\\n0                                    ['wild animal']   \n1  ['android', 'sequel', 'attack', 'based on mang...   \n2  ['revolution', 'liberation', 'freedom fighter'...   \n3  ['fairy', 'musical', 'puppet', 'live action an...   \n4  ['ex', 'girlfriend', 'hero', 'greek mythology'...   \n\n                        poster_path  ...  Comedy  TV Movie  Crime  Mystery  \\\n0  /iRV0IB5xQeOymuGGUBarTecQVAl.jpg  ...   False     False  False    False   \n1  /rugyJdeoJm7cSJL1q4jBpTNbxyU.jpg  ...   False     False  False    False   \n2  /wE0I6efAW4cDDmZQWtwZMOW44EJ.jpg  ...   False     False  False    False   \n3  /g8sclIV4gj1TZqUpnL82hKOTK3B.jpg  ...   False     False  False    False   \n4  /pIkRyD18kl4FhoCNQuWxWu5cBLM.jpg  ...    True     False  False    False   \n\n     War  Romance  Music  History  Documentary  Western  \n0  False    False  False    False        False    False  \n1  False    False  False    False        False    False  \n2  False    False  False    False        False    False  \n3  False    False  False    False        False    False  \n4  False    False  False    False        False    False  \n\n[5 rows x 29 columns]",
      "text/html": "<div>\n<style scoped>\n    .dataframe tbody tr th:only-of-type {\n        vertical-align: middle;\n    }\n\n    .dataframe tbody tr th {\n        vertical-align: top;\n    }\n\n    .dataframe thead th {\n        text-align: right;\n    }\n</style>\n<table border=\"1\" class=\"dataframe\">\n  <thead>\n    <tr style=\"text-align: right;\">\n      <th></th>\n      <th>id</th>\n      <th>title</th>\n      <th>genres</th>\n      <th>original_language</th>\n      <th>popularity</th>\n      <th>release_date</th>\n      <th>runtime</th>\n      <th>vote_count</th>\n      <th>keywords</th>\n      <th>poster_path</th>\n      <th>...</th>\n      <th>Comedy</th>\n      <th>TV Movie</th>\n      <th>Crime</th>\n      <th>Mystery</th>\n      <th>War</th>\n      <th>Romance</th>\n      <th>Music</th>\n      <th>History</th>\n      <th>Documentary</th>\n      <th>Western</th>\n    </tr>\n  </thead>\n  <tbody>\n    <tr>\n      <th>0</th>\n      <td>760741</td>\n      <td>Beast</td>\n      <td>[Thriller, Horror]</td>\n      <td>en</td>\n      <td>5056.663</td>\n      <td>2022-08-11</td>\n      <td>93</td>\n      <td>284</td>\n      <td>['wild animal']</td>\n      <td>/iRV0IB5xQeOymuGGUBarTecQVAl.jpg</td>\n      <td>...</td>\n      <td>False</td>\n      <td>False</td>\n      <td>False</td>\n      <td>False</td>\n      <td>False</td>\n      <td>False</td>\n      <td>False</td>\n      <td>False</td>\n      <td>False</td>\n      <td>False</td>\n    </tr>\n    <tr>\n      <th>1</th>\n      <td>610150</td>\n      <td>Dragon Ball Super: Super Hero</td>\n      <td>[Animation, Science Fiction, Action]</td>\n      <td>ja</td>\n      <td>3762.862</td>\n      <td>2022-06-11</td>\n      <td>99</td>\n      <td>1563</td>\n      <td>['android', 'sequel', 'attack', 'based on mang...</td>\n      <td>/rugyJdeoJm7cSJL1q4jBpTNbxyU.jpg</td>\n      <td>...</td>\n      <td>False</td>\n      <td>False</td>\n      <td>False</td>\n      <td>False</td>\n      <td>False</td>\n      <td>False</td>\n      <td>False</td>\n      <td>False</td>\n      <td>False</td>\n      <td>False</td>\n    </tr>\n    <tr>\n      <th>2</th>\n      <td>579974</td>\n      <td>RRR</td>\n      <td>[Action, Drama]</td>\n      <td>te</td>\n      <td>3684.786</td>\n      <td>2022-03-24</td>\n      <td>182</td>\n      <td>331</td>\n      <td>['revolution', 'liberation', 'freedom fighter'...</td>\n      <td>/wE0I6efAW4cDDmZQWtwZMOW44EJ.jpg</td>\n      <td>...</td>\n      <td>False</td>\n      <td>False</td>\n      <td>False</td>\n      <td>False</td>\n      <td>False</td>\n      <td>False</td>\n      <td>False</td>\n      <td>False</td>\n      <td>False</td>\n      <td>False</td>\n    </tr>\n    <tr>\n      <th>3</th>\n      <td>532639</td>\n      <td>Pinocchio</td>\n      <td>[Fantasy, Adventure, Family]</td>\n      <td>en</td>\n      <td>3680.307</td>\n      <td>2022-09-07</td>\n      <td>111</td>\n      <td>411</td>\n      <td>['fairy', 'musical', 'puppet', 'live action an...</td>\n      <td>/g8sclIV4gj1TZqUpnL82hKOTK3B.jpg</td>\n      <td>...</td>\n      <td>False</td>\n      <td>False</td>\n      <td>False</td>\n      <td>False</td>\n      <td>False</td>\n      <td>False</td>\n      <td>False</td>\n      <td>False</td>\n      <td>False</td>\n      <td>False</td>\n    </tr>\n    <tr>\n      <th>4</th>\n      <td>616037</td>\n      <td>Thor: Love and Thunder</td>\n      <td>[Fantasy, Action, Comedy]</td>\n      <td>en</td>\n      <td>3643.289</td>\n      <td>2022-07-06</td>\n      <td>119</td>\n      <td>3233</td>\n      <td>['ex', 'girlfriend', 'hero', 'greek mythology'...</td>\n      <td>/pIkRyD18kl4FhoCNQuWxWu5cBLM.jpg</td>\n      <td>...</td>\n      <td>True</td>\n      <td>False</td>\n      <td>False</td>\n      <td>False</td>\n      <td>False</td>\n      <td>False</td>\n      <td>False</td>\n      <td>False</td>\n      <td>False</td>\n      <td>False</td>\n    </tr>\n  </tbody>\n</table>\n<p>5 rows × 29 columns</p>\n</div>"
     },
     "execution_count": 17,
     "metadata": {},
     "output_type": "execute_result"
    }
   ],
   "source": [
    "movies_clean.head()"
   ],
   "metadata": {
    "collapsed": false
   }
  },
  {
   "cell_type": "code",
   "execution_count": 18,
   "outputs": [
    {
     "name": "stdout",
     "output_type": "stream",
     "text": [
      "<class 'pandas.core.frame.DataFrame'>\n",
      "Int64Index: 340746 entries, 760741 to 772736\n",
      "Data columns (total 28 columns):\n",
      " #   Column             Non-Null Count   Dtype         \n",
      "---  ------             --------------   -----         \n",
      " 0   title              340746 non-null  string        \n",
      " 1   genres             340746 non-null  object        \n",
      " 2   original_language  340746 non-null  string        \n",
      " 3   popularity         340746 non-null  float64       \n",
      " 4   release_date       340746 non-null  datetime64[ns]\n",
      " 5   runtime            340746 non-null  int64         \n",
      " 6   vote_count         340746 non-null  int64         \n",
      " 7   keywords           340746 non-null  object        \n",
      " 8   poster_path        340746 non-null  string        \n",
      " 9   Thriller           340746 non-null  bool          \n",
      " 10  Horror             340746 non-null  bool          \n",
      " 11  Animation          340746 non-null  bool          \n",
      " 12  Science Fiction    340746 non-null  bool          \n",
      " 13  Action             340746 non-null  bool          \n",
      " 14  Drama              340746 non-null  bool          \n",
      " 15  Fantasy            340746 non-null  bool          \n",
      " 16  Adventure          340746 non-null  bool          \n",
      " 17  Family             340746 non-null  bool          \n",
      " 18  Comedy             340746 non-null  bool          \n",
      " 19  TV Movie           340746 non-null  bool          \n",
      " 20  Crime              340746 non-null  bool          \n",
      " 21  Mystery            340746 non-null  bool          \n",
      " 22  War                340746 non-null  bool          \n",
      " 23  Romance            340746 non-null  bool          \n",
      " 24  Music              340746 non-null  bool          \n",
      " 25  History            340746 non-null  bool          \n",
      " 26  Documentary        340746 non-null  bool          \n",
      " 27  Western            340746 non-null  bool          \n",
      "dtypes: bool(19), datetime64[ns](1), float64(1), int64(2), object(2), string(3)\n",
      "memory usage: 32.2+ MB\n"
     ]
    }
   ],
   "source": [
    "movies_clean.index = movies_clean.id\n",
    "movies_clean = movies_clean.drop(columns=['id'])\n",
    "movies_clean.title = movies_clean.title.astype(\"string\")\n",
    "movies_clean.original_language = movies_clean.original_language.astype(\"string\")\n",
    "movies_clean.release_date = pd.to_datetime(movies_clean.release_date)\n",
    "movies_clean.poster_path = movies_clean.poster_path.astype(\"string\")\n",
    "movies_clean.info()"
   ],
   "metadata": {
    "collapsed": false
   }
  },
  {
   "cell_type": "code",
   "execution_count": 19,
   "outputs": [],
   "source": [
    "movies_clean.to_csv('../data/tmdb-movies-220915-clean.csv')\n",
    "movies_clean.to_pickle('../data/tmdb-movies-220915-clean.pkl')"
   ],
   "metadata": {
    "collapsed": false
   }
  },
  {
   "cell_type": "code",
   "execution_count": 20,
   "outputs": [
    {
     "name": "stdout",
     "output_type": "stream",
     "text": [
      "<class 'pandas.core.frame.DataFrame'>\n",
      "Int64Index: 340746 entries, 760741 to 772736\n",
      "Data columns (total 28 columns):\n",
      " #   Column             Non-Null Count   Dtype         \n",
      "---  ------             --------------   -----         \n",
      " 0   title              340746 non-null  string        \n",
      " 1   genres             340746 non-null  object        \n",
      " 2   original_language  340746 non-null  string        \n",
      " 3   popularity         340746 non-null  float64       \n",
      " 4   release_date       340746 non-null  datetime64[ns]\n",
      " 5   runtime            340746 non-null  int64         \n",
      " 6   vote_count         340746 non-null  int64         \n",
      " 7   keywords           340746 non-null  object        \n",
      " 8   poster_path        340746 non-null  string        \n",
      " 9   Thriller           340746 non-null  bool          \n",
      " 10  Horror             340746 non-null  bool          \n",
      " 11  Animation          340746 non-null  bool          \n",
      " 12  Science Fiction    340746 non-null  bool          \n",
      " 13  Action             340746 non-null  bool          \n",
      " 14  Drama              340746 non-null  bool          \n",
      " 15  Fantasy            340746 non-null  bool          \n",
      " 16  Adventure          340746 non-null  bool          \n",
      " 17  Family             340746 non-null  bool          \n",
      " 18  Comedy             340746 non-null  bool          \n",
      " 19  TV Movie           340746 non-null  bool          \n",
      " 20  Crime              340746 non-null  bool          \n",
      " 21  Mystery            340746 non-null  bool          \n",
      " 22  War                340746 non-null  bool          \n",
      " 23  Romance            340746 non-null  bool          \n",
      " 24  Music              340746 non-null  bool          \n",
      " 25  History            340746 non-null  bool          \n",
      " 26  Documentary        340746 non-null  bool          \n",
      " 27  Western            340746 non-null  bool          \n",
      "dtypes: bool(19), datetime64[ns](1), float64(1), int64(2), object(2), string(3)\n",
      "memory usage: 32.2+ MB\n"
     ]
    }
   ],
   "source": [
    "the_movies = pd.read_pickle('../data/tmdb-movies-220915-clean.pkl')\n",
    "the_movies.info()"
   ],
   "metadata": {
    "collapsed": false
   }
  },
  {
   "cell_type": "code",
   "execution_count": 21,
   "outputs": [
    {
     "data": {
      "text/plain": "                                title                                genres  \\\nid                                                                            \n760741                          Beast                    [Thriller, Horror]   \n610150  Dragon Ball Super: Super Hero  [Animation, Science Fiction, Action]   \n579974                            RRR                       [Action, Drama]   \n532639                      Pinocchio          [Fantasy, Adventure, Family]   \n616037         Thor: Love and Thunder             [Fantasy, Action, Comedy]   \n\n       original_language  popularity release_date  runtime  vote_count  \\\nid                                                                       \n760741                en    5056.663   2022-08-11       93         284   \n610150                ja    3762.862   2022-06-11       99        1563   \n579974                te    3684.786   2022-03-24      182         331   \n532639                en    3680.307   2022-09-07      111         411   \n616037                en    3643.289   2022-07-06      119        3233   \n\n                                                 keywords  \\\nid                                                          \n760741                                    ['wild animal']   \n610150  ['android', 'sequel', 'attack', 'based on mang...   \n579974  ['revolution', 'liberation', 'freedom fighter'...   \n532639  ['fairy', 'musical', 'puppet', 'live action an...   \n616037  ['ex', 'girlfriend', 'hero', 'greek mythology'...   \n\n                             poster_path  Thriller  ...  Comedy  TV Movie  \\\nid                                                  ...                     \n760741  /iRV0IB5xQeOymuGGUBarTecQVAl.jpg      True  ...   False     False   \n610150  /rugyJdeoJm7cSJL1q4jBpTNbxyU.jpg     False  ...   False     False   \n579974  /wE0I6efAW4cDDmZQWtwZMOW44EJ.jpg     False  ...   False     False   \n532639  /g8sclIV4gj1TZqUpnL82hKOTK3B.jpg     False  ...   False     False   \n616037  /pIkRyD18kl4FhoCNQuWxWu5cBLM.jpg     False  ...    True     False   \n\n        Crime  Mystery    War  Romance  Music  History  Documentary  Western  \nid                                                                            \n760741  False    False  False    False  False    False        False    False  \n610150  False    False  False    False  False    False        False    False  \n579974  False    False  False    False  False    False        False    False  \n532639  False    False  False    False  False    False        False    False  \n616037  False    False  False    False  False    False        False    False  \n\n[5 rows x 28 columns]",
      "text/html": "<div>\n<style scoped>\n    .dataframe tbody tr th:only-of-type {\n        vertical-align: middle;\n    }\n\n    .dataframe tbody tr th {\n        vertical-align: top;\n    }\n\n    .dataframe thead th {\n        text-align: right;\n    }\n</style>\n<table border=\"1\" class=\"dataframe\">\n  <thead>\n    <tr style=\"text-align: right;\">\n      <th></th>\n      <th>title</th>\n      <th>genres</th>\n      <th>original_language</th>\n      <th>popularity</th>\n      <th>release_date</th>\n      <th>runtime</th>\n      <th>vote_count</th>\n      <th>keywords</th>\n      <th>poster_path</th>\n      <th>Thriller</th>\n      <th>...</th>\n      <th>Comedy</th>\n      <th>TV Movie</th>\n      <th>Crime</th>\n      <th>Mystery</th>\n      <th>War</th>\n      <th>Romance</th>\n      <th>Music</th>\n      <th>History</th>\n      <th>Documentary</th>\n      <th>Western</th>\n    </tr>\n    <tr>\n      <th>id</th>\n      <th></th>\n      <th></th>\n      <th></th>\n      <th></th>\n      <th></th>\n      <th></th>\n      <th></th>\n      <th></th>\n      <th></th>\n      <th></th>\n      <th></th>\n      <th></th>\n      <th></th>\n      <th></th>\n      <th></th>\n      <th></th>\n      <th></th>\n      <th></th>\n      <th></th>\n      <th></th>\n      <th></th>\n    </tr>\n  </thead>\n  <tbody>\n    <tr>\n      <th>760741</th>\n      <td>Beast</td>\n      <td>[Thriller, Horror]</td>\n      <td>en</td>\n      <td>5056.663</td>\n      <td>2022-08-11</td>\n      <td>93</td>\n      <td>284</td>\n      <td>['wild animal']</td>\n      <td>/iRV0IB5xQeOymuGGUBarTecQVAl.jpg</td>\n      <td>True</td>\n      <td>...</td>\n      <td>False</td>\n      <td>False</td>\n      <td>False</td>\n      <td>False</td>\n      <td>False</td>\n      <td>False</td>\n      <td>False</td>\n      <td>False</td>\n      <td>False</td>\n      <td>False</td>\n    </tr>\n    <tr>\n      <th>610150</th>\n      <td>Dragon Ball Super: Super Hero</td>\n      <td>[Animation, Science Fiction, Action]</td>\n      <td>ja</td>\n      <td>3762.862</td>\n      <td>2022-06-11</td>\n      <td>99</td>\n      <td>1563</td>\n      <td>['android', 'sequel', 'attack', 'based on mang...</td>\n      <td>/rugyJdeoJm7cSJL1q4jBpTNbxyU.jpg</td>\n      <td>False</td>\n      <td>...</td>\n      <td>False</td>\n      <td>False</td>\n      <td>False</td>\n      <td>False</td>\n      <td>False</td>\n      <td>False</td>\n      <td>False</td>\n      <td>False</td>\n      <td>False</td>\n      <td>False</td>\n    </tr>\n    <tr>\n      <th>579974</th>\n      <td>RRR</td>\n      <td>[Action, Drama]</td>\n      <td>te</td>\n      <td>3684.786</td>\n      <td>2022-03-24</td>\n      <td>182</td>\n      <td>331</td>\n      <td>['revolution', 'liberation', 'freedom fighter'...</td>\n      <td>/wE0I6efAW4cDDmZQWtwZMOW44EJ.jpg</td>\n      <td>False</td>\n      <td>...</td>\n      <td>False</td>\n      <td>False</td>\n      <td>False</td>\n      <td>False</td>\n      <td>False</td>\n      <td>False</td>\n      <td>False</td>\n      <td>False</td>\n      <td>False</td>\n      <td>False</td>\n    </tr>\n    <tr>\n      <th>532639</th>\n      <td>Pinocchio</td>\n      <td>[Fantasy, Adventure, Family]</td>\n      <td>en</td>\n      <td>3680.307</td>\n      <td>2022-09-07</td>\n      <td>111</td>\n      <td>411</td>\n      <td>['fairy', 'musical', 'puppet', 'live action an...</td>\n      <td>/g8sclIV4gj1TZqUpnL82hKOTK3B.jpg</td>\n      <td>False</td>\n      <td>...</td>\n      <td>False</td>\n      <td>False</td>\n      <td>False</td>\n      <td>False</td>\n      <td>False</td>\n      <td>False</td>\n      <td>False</td>\n      <td>False</td>\n      <td>False</td>\n      <td>False</td>\n    </tr>\n    <tr>\n      <th>616037</th>\n      <td>Thor: Love and Thunder</td>\n      <td>[Fantasy, Action, Comedy]</td>\n      <td>en</td>\n      <td>3643.289</td>\n      <td>2022-07-06</td>\n      <td>119</td>\n      <td>3233</td>\n      <td>['ex', 'girlfriend', 'hero', 'greek mythology'...</td>\n      <td>/pIkRyD18kl4FhoCNQuWxWu5cBLM.jpg</td>\n      <td>False</td>\n      <td>...</td>\n      <td>True</td>\n      <td>False</td>\n      <td>False</td>\n      <td>False</td>\n      <td>False</td>\n      <td>False</td>\n      <td>False</td>\n      <td>False</td>\n      <td>False</td>\n      <td>False</td>\n    </tr>\n  </tbody>\n</table>\n<p>5 rows × 28 columns</p>\n</div>"
     },
     "execution_count": 21,
     "metadata": {},
     "output_type": "execute_result"
    }
   ],
   "source": [
    "the_movies.head()"
   ],
   "metadata": {
    "collapsed": false
   }
  },
  {
   "cell_type": "code",
   "execution_count": 22,
   "outputs": [
    {
     "data": {
      "text/plain": "id\n305733    1440\n138829    1440\n633832    1600\n240815    2160\n206026    3720\nName: runtime, dtype: int64"
     },
     "execution_count": 22,
     "metadata": {},
     "output_type": "execute_result"
    }
   ],
   "source": [
    "the_movies.runtime.sort_values().iloc[:-2].tail()"
   ],
   "metadata": {
    "collapsed": false
   }
  },
  {
   "cell_type": "code",
   "execution_count": 23,
   "outputs": [
    {
     "data": {
      "text/plain": "<AxesSubplot:>"
     },
     "execution_count": 23,
     "metadata": {},
     "output_type": "execute_result"
    },
    {
     "data": {
      "text/plain": "<Figure size 432x288 with 1 Axes>",
      "image/png": "[encoded data removed]"
     },
     "metadata": {
      "needs_background": "light"
     },
     "output_type": "display_data"
    }
   ],
   "source": [
    "the_movies.runtime.sort_values().iloc[:-1000].hist(bins=60)"
   ],
   "metadata": {
    "collapsed": false
   }
  },
  {
   "cell_type": "code",
   "execution_count": 24,
   "outputs": [
    {
     "data": {
      "text/plain": "203071"
     },
     "execution_count": 24,
     "metadata": {},
     "output_type": "execute_result"
    }
   ],
   "source": [
    "the_movies[the_movies.runtime.ge(60)].shape[0]"
   ],
   "metadata": {
    "collapsed": false
   }
  },
  {
   "cell_type": "code",
   "execution_count": 25,
   "outputs": [
    {
     "data": {
      "text/plain": "en    164268\nfr     22719\nes     19187\nja     15188\nde     15168\n       ...  \nug         1\nty         1\nli         1\ngv         1\nch         1\nName: original_language, Length: 154, dtype: Int64"
     },
     "execution_count": 25,
     "metadata": {},
     "output_type": "execute_result"
    }
   ],
   "source": [
    "languages = the_movies['original_language'].value_counts()\n",
    "the_movies['original_language'].value_counts()"
   ],
   "metadata": {
    "collapsed": false
   }
  },
  {
   "cell_type": "code",
   "execution_count": 26,
   "outputs": [],
   "source": [
    "top_languages = []\n",
    "for i, lang in enumerate(languages):\n",
    "    if lang > 2500:\n",
    "        top_languages.append(languages.keys()[i])\n",
    "the_movies.loc[~the_movies[\"original_language\"].isin(top_languages), \"original_language\"] = \"other\""
   ],
   "metadata": {
    "collapsed": false
   }
  },
  {
   "cell_type": "code",
   "execution_count": 27,
   "outputs": [
    {
     "data": {
      "text/plain": "en       164268\nother     38382\nfr        22719\nes        19187\nja        15188\nde        15168\nru        10326\nit         9637\nzh         9609\npt         9521\nko         5732\nhi         3903\nsv         3452\ntr         3004\ntl         2866\ncn         2763\nar         2516\nel         2505\nName: original_language, dtype: Int64"
     },
     "execution_count": 27,
     "metadata": {},
     "output_type": "execute_result"
    }
   ],
   "source": [
    "the_movies['original_language'].value_counts()"
   ],
   "metadata": {
    "collapsed": false
   }
  },
  {
   "cell_type": "code",
   "execution_count": 28,
   "outputs": [],
   "source": [
    "languages = pd.get_dummies(the_movies.original_language, prefix=\"lang\", dtype=bool)\n",
    "the_movies = the_movies.join(languages)"
   ],
   "metadata": {
    "collapsed": false
   }
  },
  {
   "cell_type": "code",
   "execution_count": 29,
   "outputs": [
    {
     "name": "stdout",
     "output_type": "stream",
     "text": [
      "<class 'pandas.core.frame.DataFrame'>\n",
      "Int64Index: 340746 entries, 760741 to 772736\n",
      "Data columns (total 46 columns):\n",
      " #   Column             Non-Null Count   Dtype         \n",
      "---  ------             --------------   -----         \n",
      " 0   title              340746 non-null  string        \n",
      " 1   genres             340746 non-null  object        \n",
      " 2   original_language  340746 non-null  string        \n",
      " 3   popularity         340746 non-null  float64       \n",
      " 4   release_date       340746 non-null  datetime64[ns]\n",
      " 5   runtime            340746 non-null  int64         \n",
      " 6   vote_count         340746 non-null  int64         \n",
      " 7   keywords           340746 non-null  object        \n",
      " 8   poster_path        340746 non-null  string        \n",
      " 9   Thriller           340746 non-null  bool          \n",
      " 10  Horror             340746 non-null  bool          \n",
      " 11  Animation          340746 non-null  bool          \n",
      " 12  Science Fiction    340746 non-null  bool          \n",
      " 13  Action             340746 non-null  bool          \n",
      " 14  Drama              340746 non-null  bool          \n",
      " 15  Fantasy            340746 non-null  bool          \n",
      " 16  Adventure          340746 non-null  bool          \n",
      " 17  Family             340746 non-null  bool          \n",
      " 18  Comedy             340746 non-null  bool          \n",
      " 19  TV Movie           340746 non-null  bool          \n",
      " 20  Crime              340746 non-null  bool          \n",
      " 21  Mystery            340746 non-null  bool          \n",
      " 22  War                340746 non-null  bool          \n",
      " 23  Romance            340746 non-null  bool          \n",
      " 24  Music              340746 non-null  bool          \n",
      " 25  History            340746 non-null  bool          \n",
      " 26  Documentary        340746 non-null  bool          \n",
      " 27  Western            340746 non-null  bool          \n",
      " 28  lang_ar            340746 non-null  bool          \n",
      " 29  lang_cn            340746 non-null  bool          \n",
      " 30  lang_de            340746 non-null  bool          \n",
      " 31  lang_el            340746 non-null  bool          \n",
      " 32  lang_en            340746 non-null  bool          \n",
      " 33  lang_es            340746 non-null  bool          \n",
      " 34  lang_fr            340746 non-null  bool          \n",
      " 35  lang_hi            340746 non-null  bool          \n",
      " 36  lang_it            340746 non-null  bool          \n",
      " 37  lang_ja            340746 non-null  bool          \n",
      " 38  lang_ko            340746 non-null  bool          \n",
      " 39  lang_other         340746 non-null  bool          \n",
      " 40  lang_pt            340746 non-null  bool          \n",
      " 41  lang_ru            340746 non-null  bool          \n",
      " 42  lang_sv            340746 non-null  bool          \n",
      " 43  lang_tl            340746 non-null  bool          \n",
      " 44  lang_tr            340746 non-null  bool          \n",
      " 45  lang_zh            340746 non-null  bool          \n",
      "dtypes: bool(37), datetime64[ns](1), float64(1), int64(2), object(2), string(3)\n",
      "memory usage: 46.1+ MB\n"
     ]
    }
   ],
   "source": [
    "the_movies.info()"
   ],
   "metadata": {
    "collapsed": false
   }
  },
  {
   "cell_type": "code",
   "execution_count": 30,
   "outputs": [
    {
     "data": {
      "text/plain": "                                title                                genres  \\\nid                                                                            \n760741                          Beast                    [Thriller, Horror]   \n610150  Dragon Ball Super: Super Hero  [Animation, Science Fiction, Action]   \n579974                            RRR                       [Action, Drama]   \n532639                      Pinocchio          [Fantasy, Adventure, Family]   \n616037         Thor: Love and Thunder             [Fantasy, Action, Comedy]   \n\n       original_language  popularity release_date  runtime  vote_count  \\\nid                                                                       \n760741                en    5056.663   2022-08-11       93         284   \n610150                ja    3762.862   2022-06-11       99        1563   \n579974             other    3684.786   2022-03-24      182         331   \n532639                en    3680.307   2022-09-07      111         411   \n616037                en    3643.289   2022-07-06      119        3233   \n\n                                                 keywords  \\\nid                                                          \n760741                                    ['wild animal']   \n610150  ['android', 'sequel', 'attack', 'based on mang...   \n579974  ['revolution', 'liberation', 'freedom fighter'...   \n532639  ['fairy', 'musical', 'puppet', 'live action an...   \n616037  ['ex', 'girlfriend', 'hero', 'greek mythology'...   \n\n                             poster_path  Thriller  ...  lang_it  lang_ja  \\\nid                                                  ...                     \n760741  /iRV0IB5xQeOymuGGUBarTecQVAl.jpg      True  ...    False    False   \n610150  /rugyJdeoJm7cSJL1q4jBpTNbxyU.jpg     False  ...    False     True   \n579974  /wE0I6efAW4cDDmZQWtwZMOW44EJ.jpg     False  ...    False    False   \n532639  /g8sclIV4gj1TZqUpnL82hKOTK3B.jpg     False  ...    False    False   \n616037  /pIkRyD18kl4FhoCNQuWxWu5cBLM.jpg     False  ...    False    False   \n\n        lang_ko  lang_other  lang_pt  lang_ru  lang_sv  lang_tl  lang_tr  \\\nid                                                                         \n760741    False       False    False    False    False    False    False   \n610150    False       False    False    False    False    False    False   \n579974    False        True    False    False    False    False    False   \n532639    False       False    False    False    False    False    False   \n616037    False       False    False    False    False    False    False   \n\n        lang_zh  \nid               \n760741    False  \n610150    False  \n579974    False  \n532639    False  \n616037    False  \n\n[5 rows x 46 columns]",
      "text/html": "<div>\n<style scoped>\n    .dataframe tbody tr th:only-of-type {\n        vertical-align: middle;\n    }\n\n    .dataframe tbody tr th {\n        vertical-align: top;\n    }\n\n    .dataframe thead th {\n        text-align: right;\n    }\n</style>\n<table border=\"1\" class=\"dataframe\">\n  <thead>\n    <tr style=\"text-align: right;\">\n      <th></th>\n      <th>title</th>\n      <th>genres</th>\n      <th>original_language</th>\n      <th>popularity</th>\n      <th>release_date</th>\n      <th>runtime</th>\n      <th>vote_count</th>\n      <th>keywords</th>\n      <th>poster_path</th>\n      <th>Thriller</th>\n      <th>...</th>\n      <th>lang_it</th>\n      <th>lang_ja</th>\n      <th>lang_ko</th>\n      <th>lang_other</th>\n      <th>lang_pt</th>\n      <th>lang_ru</th>\n      <th>lang_sv</th>\n      <th>lang_tl</th>\n      <th>lang_tr</th>\n      <th>lang_zh</th>\n    </tr>\n    <tr>\n      <th>id</th>\n      <th></th>\n      <th></th>\n      <th></th>\n      <th></th>\n      <th></th>\n      <th></th>\n      <th></th>\n      <th></th>\n      <th></th>\n      <th></th>\n      <th></th>\n      <th></th>\n      <th></th>\n      <th></th>\n      <th></th>\n      <th></th>\n      <th></th>\n      <th></th>\n      <th></th>\n      <th></th>\n      <th></th>\n    </tr>\n  </thead>\n  <tbody>\n    <tr>\n      <th>760741</th>\n      <td>Beast</td>\n      <td>[Thriller, Horror]</td>\n      <td>en</td>\n      <td>5056.663</td>\n      <td>2022-08-11</td>\n      <td>93</td>\n      <td>284</td>\n      <td>['wild animal']</td>\n      <td>/iRV0IB5xQeOymuGGUBarTecQVAl.jpg</td>\n      <td>True</td>\n      <td>...</td>\n      <td>False</td>\n      <td>False</td>\n      <td>False</td>\n      <td>False</td>\n      <td>False</td>\n      <td>False</td>\n      <td>False</td>\n      <td>False</td>\n      <td>False</td>\n      <td>False</td>\n    </tr>\n    <tr>\n      <th>610150</th>\n      <td>Dragon Ball Super: Super Hero</td>\n      <td>[Animation, Science Fiction, Action]</td>\n      <td>ja</td>\n      <td>3762.862</td>\n      <td>2022-06-11</td>\n      <td>99</td>\n      <td>1563</td>\n      <td>['android', 'sequel', 'attack', 'based on mang...</td>\n      <td>/rugyJdeoJm7cSJL1q4jBpTNbxyU.jpg</td>\n      <td>False</td>\n      <td>...</td>\n      <td>False</td>\n      <td>True</td>\n      <td>False</td>\n      <td>False</td>\n      <td>False</td>\n      <td>False</td>\n      <td>False</td>\n      <td>False</td>\n      <td>False</td>\n      <td>False</td>\n    </tr>\n    <tr>\n      <th>579974</th>\n      <td>RRR</td>\n      <td>[Action, Drama]</td>\n      <td>other</td>\n      <td>3684.786</td>\n      <td>2022-03-24</td>\n      <td>182</td>\n      <td>331</td>\n      <td>['revolution', 'liberation', 'freedom fighter'...</td>\n      <td>/wE0I6efAW4cDDmZQWtwZMOW44EJ.jpg</td>\n      <td>False</td>\n      <td>...</td>\n      <td>False</td>\n      <td>False</td>\n      <td>False</td>\n      <td>True</td>\n      <td>False</td>\n      <td>False</td>\n      <td>False</td>\n      <td>False</td>\n      <td>False</td>\n      <td>False</td>\n    </tr>\n    <tr>\n      <th>532639</th>\n      <td>Pinocchio</td>\n      <td>[Fantasy, Adventure, Family]</td>\n      <td>en</td>\n      <td>3680.307</td>\n      <td>2022-09-07</td>\n      <td>111</td>\n      <td>411</td>\n      <td>['fairy', 'musical', 'puppet', 'live action an...</td>\n      <td>/g8sclIV4gj1TZqUpnL82hKOTK3B.jpg</td>\n      <td>False</td>\n      <td>...</td>\n      <td>False</td>\n      <td>False</td>\n      <td>False</td>\n      <td>False</td>\n      <td>False</td>\n      <td>False</td>\n      <td>False</td>\n      <td>False</td>\n      <td>False</td>\n      <td>False</td>\n    </tr>\n    <tr>\n      <th>616037</th>\n      <td>Thor: Love and Thunder</td>\n      <td>[Fantasy, Action, Comedy]</td>\n      <td>en</td>\n      <td>3643.289</td>\n      <td>2022-07-06</td>\n      <td>119</td>\n      <td>3233</td>\n      <td>['ex', 'girlfriend', 'hero', 'greek mythology'...</td>\n      <td>/pIkRyD18kl4FhoCNQuWxWu5cBLM.jpg</td>\n      <td>False</td>\n      <td>...</td>\n      <td>False</td>\n      <td>False</td>\n      <td>False</td>\n      <td>False</td>\n      <td>False</td>\n      <td>False</td>\n      <td>False</td>\n      <td>False</td>\n      <td>False</td>\n      <td>False</td>\n    </tr>\n  </tbody>\n</table>\n<p>5 rows × 46 columns</p>\n</div>"
     },
     "execution_count": 30,
     "metadata": {},
     "output_type": "execute_result"
    }
   ],
   "source": [
    "the_movies.head()"
   ],
   "metadata": {
    "collapsed": false
   }
  },
  {
   "cell_type": "code",
   "execution_count": 31,
   "outputs": [],
   "source": [
    "the_movies.to_pickle('../data/tmdb-movies-220915-clean.pkl')"
   ],
   "metadata": {
    "collapsed": false
   }
  },
  {
   "cell_type": "code",
   "execution_count": 34,
   "outputs": [
    {
     "name": "stdout",
     "output_type": "stream",
     "text": [
      "<class 'pandas.core.frame.DataFrame'>\n",
      "Int64Index: 340746 entries, 760741 to 772736\n",
      "Data columns (total 46 columns):\n",
      " #   Column             Non-Null Count   Dtype         \n",
      "---  ------             --------------   -----         \n",
      " 0   title              340746 non-null  string        \n",
      " 1   genres             340746 non-null  object        \n",
      " 2   original_language  340746 non-null  string        \n",
      " 3   popularity         340746 non-null  float64       \n",
      " 4   release_date       340746 non-null  datetime64[ns]\n",
      " 5   runtime            340746 non-null  int64         \n",
      " 6   vote_count         340746 non-null  int64         \n",
      " 7   keywords           340746 non-null  object        \n",
      " 8   poster_path        340746 non-null  string        \n",
      " 9   Thriller           340746 non-null  bool          \n",
      " 10  Horror             340746 non-null  bool          \n",
      " 11  Animation          340746 non-null  bool          \n",
      " 12  Science Fiction    340746 non-null  bool          \n",
      " 13  Action             340746 non-null  bool          \n",
      " 14  Drama              340746 non-null  bool          \n",
      " 15  Fantasy            340746 non-null  bool          \n",
      " 16  Adventure          340746 non-null  bool          \n",
      " 17  Family             340746 non-null  bool          \n",
      " 18  Comedy             340746 non-null  bool          \n",
      " 19  TV Movie           340746 non-null  bool          \n",
      " 20  Crime              340746 non-null  bool          \n",
      " 21  Mystery            340746 non-null  bool          \n",
      " 22  War                340746 non-null  bool          \n",
      " 23  Romance            340746 non-null  bool          \n",
      " 24  Music              340746 non-null  bool          \n",
      " 25  History            340746 non-null  bool          \n",
      " 26  Documentary        340746 non-null  bool          \n",
      " 27  Western            340746 non-null  bool          \n",
      " 28  lang_ar            340746 non-null  bool          \n",
      " 29  lang_cn            340746 non-null  bool          \n",
      " 30  lang_de            340746 non-null  bool          \n",
      " 31  lang_el            340746 non-null  bool          \n",
      " 32  lang_en            340746 non-null  bool          \n",
      " 33  lang_es            340746 non-null  bool          \n",
      " 34  lang_fr            340746 non-null  bool          \n",
      " 35  lang_hi            340746 non-null  bool          \n",
      " 36  lang_it            340746 non-null  bool          \n",
      " 37  lang_ja            340746 non-null  bool          \n",
      " 38  lang_ko            340746 non-null  bool          \n",
      " 39  lang_other         340746 non-null  bool          \n",
      " 40  lang_pt            340746 non-null  bool          \n",
      " 41  lang_ru            340746 non-null  bool          \n",
      " 42  lang_sv            340746 non-null  bool          \n",
      " 43  lang_tl            340746 non-null  bool          \n",
      " 44  lang_tr            340746 non-null  bool          \n",
      " 45  lang_zh            340746 non-null  bool          \n",
      "dtypes: bool(37), datetime64[ns](1), float64(1), int64(2), object(2), string(3)\n",
      "memory usage: 38.0+ MB\n"
     ]
    }
   ],
   "source": [
    "the_movies = pd.read_pickle('../data/tmdb-movies-220915-clean.pkl')\n",
    "the_movies.info()"
   ],
   "metadata": {
    "collapsed": false
   }
  },
  {
   "cell_type": "code",
   "execution_count": 35,
   "outputs": [
    {
     "data": {
      "text/plain": "                                title                                genres  \\\nid                                                                            \n760741                          Beast                    [Thriller, Horror]   \n610150  Dragon Ball Super: Super Hero  [Animation, Science Fiction, Action]   \n579974                            RRR                       [Action, Drama]   \n532639                      Pinocchio          [Fantasy, Adventure, Family]   \n616037         Thor: Love and Thunder             [Fantasy, Action, Comedy]   \n\n       original_language  popularity release_date  runtime  vote_count  \\\nid                                                                       \n760741                en    5056.663   2022-08-11       93         284   \n610150                ja    3762.862   2022-06-11       99        1563   \n579974             other    3684.786   2022-03-24      182         331   \n532639                en    3680.307   2022-09-07      111         411   \n616037                en    3643.289   2022-07-06      119        3233   \n\n                                                 keywords  \\\nid                                                          \n760741                                    ['wild animal']   \n610150  ['android', 'sequel', 'attack', 'based on mang...   \n579974  ['revolution', 'liberation', 'freedom fighter'...   \n532639  ['fairy', 'musical', 'puppet', 'live action an...   \n616037  ['ex', 'girlfriend', 'hero', 'greek mythology'...   \n\n                             poster_path  Thriller  ...  lang_it  lang_ja  \\\nid                                                  ...                     \n760741  /iRV0IB5xQeOymuGGUBarTecQVAl.jpg      True  ...    False    False   \n610150  /rugyJdeoJm7cSJL1q4jBpTNbxyU.jpg     False  ...    False     True   \n579974  /wE0I6efAW4cDDmZQWtwZMOW44EJ.jpg     False  ...    False    False   \n532639  /g8sclIV4gj1TZqUpnL82hKOTK3B.jpg     False  ...    False    False   \n616037  /pIkRyD18kl4FhoCNQuWxWu5cBLM.jpg     False  ...    False    False   \n\n        lang_ko  lang_other  lang_pt  lang_ru  lang_sv  lang_tl  lang_tr  \\\nid                                                                         \n760741    False       False    False    False    False    False    False   \n610150    False       False    False    False    False    False    False   \n579974    False        True    False    False    False    False    False   \n532639    False       False    False    False    False    False    False   \n616037    False       False    False    False    False    False    False   \n\n        lang_zh  \nid               \n760741    False  \n610150    False  \n579974    False  \n532639    False  \n616037    False  \n\n[5 rows x 46 columns]",
      "text/html": "<div>\n<style scoped>\n    .dataframe tbody tr th:only-of-type {\n        vertical-align: middle;\n    }\n\n    .dataframe tbody tr th {\n        vertical-align: top;\n    }\n\n    .dataframe thead th {\n        text-align: right;\n    }\n</style>\n<table border=\"1\" class=\"dataframe\">\n  <thead>\n    <tr style=\"text-align: right;\">\n      <th></th>\n      <th>title</th>\n      <th>genres</th>\n      <th>original_language</th>\n      <th>popularity</th>\n      <th>release_date</th>\n      <th>runtime</th>\n      <th>vote_count</th>\n      <th>keywords</th>\n      <th>poster_path</th>\n      <th>Thriller</th>\n      <th>...</th>\n      <th>lang_it</th>\n      <th>lang_ja</th>\n      <th>lang_ko</th>\n      <th>lang_other</th>\n      <th>lang_pt</th>\n      <th>lang_ru</th>\n      <th>lang_sv</th>\n      <th>lang_tl</th>\n      <th>lang_tr</th>\n      <th>lang_zh</th>\n    </tr>\n    <tr>\n      <th>id</th>\n      <th></th>\n      <th></th>\n      <th></th>\n      <th></th>\n      <th></th>\n      <th></th>\n      <th></th>\n      <th></th>\n      <th></th>\n      <th></th>\n      <th></th>\n      <th></th>\n      <th></th>\n      <th></th>\n      <th></th>\n      <th></th>\n      <th></th>\n      <th></th>\n      <th></th>\n      <th></th>\n      <th></th>\n    </tr>\n  </thead>\n  <tbody>\n    <tr>\n      <th>760741</th>\n      <td>Beast</td>\n      <td>[Thriller, Horror]</td>\n      <td>en</td>\n      <td>5056.663</td>\n      <td>2022-08-11</td>\n      <td>93</td>\n      <td>284</td>\n      <td>['wild animal']</td>\n      <td>/iRV0IB5xQeOymuGGUBarTecQVAl.jpg</td>\n      <td>True</td>\n      <td>...</td>\n      <td>False</td>\n      <td>False</td>\n      <td>False</td>\n      <td>False</td>\n      <td>False</td>\n      <td>False</td>\n      <td>False</td>\n      <td>False</td>\n      <td>False</td>\n      <td>False</td>\n    </tr>\n    <tr>\n      <th>610150</th>\n      <td>Dragon Ball Super: Super Hero</td>\n      <td>[Animation, Science Fiction, Action]</td>\n      <td>ja</td>\n      <td>3762.862</td>\n      <td>2022-06-11</td>\n      <td>99</td>\n      <td>1563</td>\n      <td>['android', 'sequel', 'attack', 'based on mang...</td>\n      <td>/rugyJdeoJm7cSJL1q4jBpTNbxyU.jpg</td>\n      <td>False</td>\n      <td>...</td>\n      <td>False</td>\n      <td>True</td>\n      <td>False</td>\n      <td>False</td>\n      <td>False</td>\n      <td>False</td>\n      <td>False</td>\n      <td>False</td>\n      <td>False</td>\n      <td>False</td>\n    </tr>\n    <tr>\n      <th>579974</th>\n      <td>RRR</td>\n      <td>[Action, Drama]</td>\n      <td>other</td>\n      <td>3684.786</td>\n      <td>2022-03-24</td>\n      <td>182</td>\n      <td>331</td>\n      <td>['revolution', 'liberation', 'freedom fighter'...</td>\n      <td>/wE0I6efAW4cDDmZQWtwZMOW44EJ.jpg</td>\n      <td>False</td>\n      <td>...</td>\n      <td>False</td>\n      <td>False</td>\n      <td>False</td>\n      <td>True</td>\n      <td>False</td>\n      <td>False</td>\n      <td>False</td>\n      <td>False</td>\n      <td>False</td>\n      <td>False</td>\n    </tr>\n    <tr>\n      <th>532639</th>\n      <td>Pinocchio</td>\n      <td>[Fantasy, Adventure, Family]</td>\n      <td>en</td>\n      <td>3680.307</td>\n      <td>2022-09-07</td>\n      <td>111</td>\n      <td>411</td>\n      <td>['fairy', 'musical', 'puppet', 'live action an...</td>\n      <td>/g8sclIV4gj1TZqUpnL82hKOTK3B.jpg</td>\n      <td>False</td>\n      <td>...</td>\n      <td>False</td>\n      <td>False</td>\n      <td>False</td>\n      <td>False</td>\n      <td>False</td>\n      <td>False</td>\n      <td>False</td>\n      <td>False</td>\n      <td>False</td>\n      <td>False</td>\n    </tr>\n    <tr>\n      <th>616037</th>\n      <td>Thor: Love and Thunder</td>\n      <td>[Fantasy, Action, Comedy]</td>\n      <td>en</td>\n      <td>3643.289</td>\n      <td>2022-07-06</td>\n      <td>119</td>\n      <td>3233</td>\n      <td>['ex', 'girlfriend', 'hero', 'greek mythology'...</td>\n      <td>/pIkRyD18kl4FhoCNQuWxWu5cBLM.jpg</td>\n      <td>False</td>\n      <td>...</td>\n      <td>False</td>\n      <td>False</td>\n      <td>False</td>\n      <td>False</td>\n      <td>False</td>\n      <td>False</td>\n      <td>False</td>\n      <td>False</td>\n      <td>False</td>\n      <td>False</td>\n    </tr>\n  </tbody>\n</table>\n<p>5 rows × 46 columns</p>\n</div>"
     },
     "execution_count": 35,
     "metadata": {},
     "output_type": "execute_result"
    }
   ],
   "source": [
    "the_movies.head()"
   ],
   "metadata": {
    "collapsed": false
   }
  },
  {
   "cell_type": "code",
   "execution_count": 33,
   "outputs": [],
   "source": [],
   "metadata": {
    "collapsed": false
   }
  }
 ],
 "metadata": {
  "kernelspec": {
   "display_name": "Python 3",
   "language": "python",
   "name": "python3"
  },
  "language_info": {
   "codemirror_mode": {
    "name": "ipython",
    "version": 2
   },
   "file_extension": ".py",
   "mimetype": "text/x-python",
   "name": "python",
   "nbconvert_exporter": "python",
   "pygments_lexer": "ipython2",
   "version": "2.7.6"
  }
 },
 "nbformat": 4,
 "nbformat_minor": 0
}